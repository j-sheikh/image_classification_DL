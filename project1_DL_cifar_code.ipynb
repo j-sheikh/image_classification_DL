{
  "cells": [
    {
      "cell_type": "markdown",
      "source": [
        "#cnn multilabel classification"
      ],
      "metadata": {
        "id": "HKU6DUShY0YB"
      },
      "id": "HKU6DUShY0YB"
    },
    {
      "cell_type": "code",
      "source": [
        "from numpy.random import seed\n",
        "seed(1)\n",
        "import tensorflow as tf\n",
        "tf.random.set_seed(1)"
      ],
      "metadata": {
        "id": "dknqhy44ligQ"
      },
      "id": "dknqhy44ligQ",
      "execution_count": null,
      "outputs": []
    },
    {
      "cell_type": "code",
      "source": [
        "import urllib.request\n",
        "import tarfile\n",
        "\n",
        "import matplotlib.pyplot as plt\n",
        "import numpy as np\n",
        "import pandas as pd\n",
        "from PIL import Image\n",
        "import os\n",
        "from tqdm import tqdm\n",
        "from sklearn.utils import shuffle\n",
        "from sklearn.metrics import f1_score, accuracy_score\n",
        "from collections import Counter\n",
        "import seaborn as sns\n",
        "from sklearn.metrics import confusion_matrix, ConfusionMatrixDisplay\n",
        "from sklearn.metrics import multilabel_confusion_matrix\n",
        "from sklearn.metrics import classification_report\n",
        "\n",
        "import keras\n",
        "from keras.models import Sequential\n",
        "from keras.layers import Dense, Dropout, Flatten, Activation\n",
        "from keras.layers import Conv2D, MaxPooling2D\n",
        "from keras.layers import BatchNormalization\n",
        "from keras.preprocessing import image\n",
        "from sklearn.model_selection import train_test_split, RepeatedKFold\n",
        "from keras.preprocessing.image import ImageDataGenerator"
      ],
      "metadata": {
        "id": "RDiEsXr6L9GS"
      },
      "id": "RDiEsXr6L9GS",
      "execution_count": null,
      "outputs": []
    },
    {
      "cell_type": "code",
      "source": [
        "#build directories\n",
        "!mkdir /content/CIFAR-10\n",
        "!mkdir /content/datasets\n",
        "!mkdir /content/datasets/CIFAR-10\n",
        "!mkdir /content/datasets/CIFAR-10/images\n",
        "!mkdir /content/datasets/CIFAR-10/images/train\n",
        "!mkdir /content/datasets/CIFAR-10/images/test"
      ],
      "metadata": {
        "id": "6z1WZXsvaGgZ"
      },
      "id": "6z1WZXsvaGgZ",
      "execution_count": null,
      "outputs": []
    },
    {
      "cell_type": "code",
      "source": [
        "#download dataset\n",
        "thetarfile = \"https://www.cs.toronto.edu/~kriz/cifar-10-python.tar.gz\"\n",
        "ftpstream = urllib.request.urlopen(thetarfile)\n",
        "thetarfile = tarfile.open(fileobj=ftpstream, mode=\"r|gz\")\n",
        "thetarfile.extractall(\"/content/CIFAR-10\")"
      ],
      "metadata": {
        "id": "lZlwU8thWzFf"
      },
      "id": "lZlwU8thWzFf",
      "execution_count": null,
      "outputs": []
    },
    {
      "cell_type": "code",
      "source": [
        "#change path if u want\n",
        "path = \"/content/CIFAR-10/cifar-10-batches-py\"\n",
        "save_path = \"/content/datasets/CIFAR-10\"\n",
        "\n",
        "batch1 = f'{path}/data_batch_1'\n",
        "batch2 = f'{path}/data_batch_2'\n",
        "batch3 = f'{path}/data_batch_3'\n",
        "batch4 = f'{path}/data_batch_4'\n",
        "batch5 = f'{path}/data_batch_5'\n",
        "test_batch = f'{path}/test_batch'\n",
        "path_save_images_train = f'{save_path}/images/train'\n",
        "path_save_images_test = f'{save_path}/images/test'\n",
        "path_save_df = f'{save_path}'"
      ],
      "metadata": {
        "id": "R6cFbN-aZFx_"
      },
      "id": "R6cFbN-aZFx_",
      "execution_count": null,
      "outputs": []
    },
    {
      "cell_type": "code",
      "source": [
        "def unpickle(file):\n",
        "    import pickle\n",
        "    with open(file, 'rb') as fo:\n",
        "        dict = pickle.load(fo, encoding='bytes')\n",
        "    return dict"
      ],
      "metadata": {
        "id": "VSLg_NXlayzE"
      },
      "id": "VSLg_NXlayzE",
      "execution_count": null,
      "outputs": []
    },
    {
      "cell_type": "code",
      "source": [
        "batch_data_1 = unpickle(batch1)\n",
        "batch_data_2 = unpickle(batch2)\n",
        "batch_data_3 = unpickle(batch3)\n",
        "batch_data_4 = unpickle(batch4)\n",
        "batch_data_5 = unpickle(batch5)\n",
        "test_data = unpickle(test_batch)"
      ],
      "metadata": {
        "id": "betjXDE6a0r0"
      },
      "id": "betjXDE6a0r0",
      "execution_count": null,
      "outputs": []
    },
    {
      "cell_type": "code",
      "source": [
        "data1 = batch_data_1[b'data']\n",
        "data1 = data1.reshape(len(data1), 3,32,32).transpose(0, 2, 3, 1)\n",
        "data2 = batch_data_2[b'data']\n",
        "data2 = data2.reshape(len(data2), 3,32,32).transpose(0, 2, 3, 1)\n",
        "data3 = batch_data_3[b'data']\n",
        "data3 = data3.reshape(len(data3), 3,32,32).transpose(0, 2, 3, 1)\n",
        "data4 = batch_data_4[b'data']\n",
        "data4 = data4.reshape(len(data4), 3,32,32).transpose(0, 2, 3, 1)\n",
        "data5 = batch_data_5[b'data']\n",
        "data5 = data1.reshape(len(data5), 3,32,32).transpose(0, 2, 3, 1)\n",
        "train = np.concatenate((data1, data2, data3, data4, data5))\n",
        "test = test_data[b'data']\n",
        "test = test.reshape(len(test), 3,32,32).transpose(0, 2, 3, 1)"
      ],
      "metadata": {
        "id": "FJ6s1Se9a2M-"
      },
      "id": "FJ6s1Se9a2M-",
      "execution_count": null,
      "outputs": []
    },
    {
      "cell_type": "code",
      "source": [
        "label1 = batch_data_1[b'labels']\n",
        "label2 = batch_data_2[b'labels']\n",
        "label3 = batch_data_3[b'labels']\n",
        "label4 = batch_data_4[b'labels']\n",
        "label5 = batch_data_5[b'labels']\n",
        "test_label = test_data[b'labels']\n",
        "train_label = np.concatenate((label1, label2, label3, label4, label5))"
      ],
      "metadata": {
        "id": "sMqpT4KNa-qm"
      },
      "id": "sMqpT4KNa-qm",
      "execution_count": null,
      "outputs": []
    },
    {
      "cell_type": "code",
      "source": [
        "label_mapper = {\n",
        "0:\"airplane\",\t\t\t\t\t\t\t\t\n",
        "1:\"automobile\",\t\t\t\t\t\t\t\t\t\n",
        "2:\"bird\",\t\t\t\t\t\t\t\t\t\n",
        "3:\"cat\"\t,\t\t\t\t\t\t\t\t\t\n",
        "4:\"deer\",\t\t\t\t\t\t\t\t\t\n",
        "5:\"dog\"\t,\t\t\t\t\t\t\t\t\t\n",
        "6:\"frog\",\t\t\t\t\t\t\t\t\t\t\n",
        "7:\"horse\",\t\t\t\t\t\t\t\t\t\t\n",
        "8:\"ship\",\t\t\t\t\t\t\t\t\t\t\n",
        "9:\"truck\"}"
      ],
      "metadata": {
        "id": "zFur1cprbHAn"
      },
      "id": "zFur1cprbHAn",
      "execution_count": null,
      "outputs": []
    },
    {
      "cell_type": "code",
      "source": [
        "#train\n",
        "df = pd.DataFrame()\n",
        "# labels = []\n",
        "for i in range(0, len(train)):\n",
        "    image = Image.fromarray(train[i], 'RGB')\n",
        "    label = train_label[i]\n",
        "    original_name = label_mapper[label]\n",
        "    name = label_mapper[label] + \"_\" + str(i)\n",
        "    # labels.append(label)\n",
        "    image.save(f\"{path_save_images_train}/{name}.jpg\")\n",
        "    df = df.append({'ImageID':f'{name}', 'label':f'{original_name}'}, ignore_index = True)\n",
        "df.to_csv(f\"{path_save_df}/train.csv\")"
      ],
      "metadata": {
        "id": "nK-gK7UEbDaQ"
      },
      "id": "nK-gK7UEbDaQ",
      "execution_count": null,
      "outputs": []
    },
    {
      "cell_type": "code",
      "source": [
        "#test\n",
        "df = pd.DataFrame()\n",
        "# labels = []\n",
        "for i in range(0, len(test)):\n",
        "    image = Image.fromarray(test[i], 'RGB')\n",
        "    label = test_label[i]\n",
        "    original_name = label_mapper[label]\n",
        "    name = label_mapper[label] + \"_\" + str(i)\n",
        "    # labels.append(label)\n",
        "    image.save(f\"{path_save_images_test}/{name}.jpg\")\n",
        "    df = df.append({'ImageID':f'{name}', 'label':f'{original_name}'}, ignore_index = True)\n",
        "df.to_csv(f\"{path_save_df}/test.csv\")"
      ],
      "metadata": {
        "id": "0YhOUlU2bX4l"
      },
      "id": "0YhOUlU2bX4l",
      "execution_count": null,
      "outputs": []
    },
    {
      "cell_type": "code",
      "source": [
        "def multilabel_builder(path):\n",
        "    df = pd.DataFrame()\n",
        "    failed = []\n",
        "    for img in os.listdir(path):\n",
        "        img_name = img[:img.index(\"_\")]\n",
        "        if img_name == 'airplane':\n",
        "            df = df.append({'id':img, 'class':img_name, 'vessel':1, 'animal':0, 'fly':1, 'walk':0, 'swim':0, 'jump':0}, ignore_index = True)\n",
        "        elif img_name =='automobile':\n",
        "             df = df.append({'id':img, 'class':img_name, 'vessel':1, 'animal':0, 'fly':0, 'walk':0, 'swim':0, 'jump':0}, ignore_index = True)\n",
        "        elif img_name == 'bird':\n",
        "             df = df.append({'id':img, 'class':img_name, 'vessel':0, 'animal':1, 'fly':1, 'walk':1, 'swim':0, 'jump':1}, ignore_index = True)\n",
        "        elif img_name == 'cat':\n",
        "             df = df.append({'id':img, 'class':img_name, 'vessel':0, 'animal':1, 'fly':0, 'walk':1, 'swim':1, 'jump':1}, ignore_index = True)\n",
        "        elif img_name == 'deer':\n",
        "             df = df.append({'id':img, 'class':img_name, 'vessel':0, 'animal':1, 'fly':0, 'walk':1, 'swim':1, 'jump':1}, ignore_index = True)\n",
        "        elif img_name == 'dog':\n",
        "             df = df.append({'id':img, 'class':img_name, 'vessel':0, 'animal':1, 'fly':0, 'walk':1, 'swim':1, 'jump':1}, ignore_index = True)\n",
        "        elif img_name == 'frog':\n",
        "             df = df.append({'id':img, 'class':img_name, 'vessel':0, 'animal':1, 'fly':0, 'walk':1, 'swim':1, 'jump':1}, ignore_index = True)\n",
        "        elif img_name == 'horse':\n",
        "             df = df.append({'id':img, 'class':img_name, 'vessel':0, 'animal':1, 'fly':0, 'walk':1, 'swim':1, 'jump':1}, ignore_index = True)\n",
        "        elif img_name == 'ship':\n",
        "             df = df.append({'id':img, 'class':img_name, 'vessel':1, 'animal':0, 'fly':0, 'walk':0, 'swim':1, 'jump':0}, ignore_index = True)\n",
        "        elif img_name == 'truck':\n",
        "             df = df.append({'id':img, 'class':img_name, 'vessel':1, 'animal':0, 'fly':0, 'walk':0, 'swim':0, 'jump':0}, ignore_index = True)\n",
        "        else:\n",
        "            print(f\"Error image {img}!\")\n",
        "            failed.append(img)\n",
        "    return df, failed\n"
      ],
      "metadata": {
        "id": "v1ive7-rbaOh"
      },
      "id": "v1ive7-rbaOh",
      "execution_count": null,
      "outputs": []
    },
    {
      "cell_type": "code",
      "source": [
        "train_df, failed_train = multilabel_builder(path_save_images_train)\n",
        "test_df, failed_test = multilabel_builder(path_save_images_test)"
      ],
      "metadata": {
        "id": "75XSOc4EbeqQ"
      },
      "id": "75XSOc4EbeqQ",
      "execution_count": null,
      "outputs": []
    },
    {
      "cell_type": "code",
      "execution_count": null,
      "metadata": {
        "id": "005a0d35",
        "outputId": "779f968a-652c-4436-82bd-6ffef8143e33",
        "colab": {
          "base_uri": "https://localhost:8080/",
          "height": 223
        }
      },
      "outputs": [
        {
          "output_type": "stream",
          "name": "stdout",
          "text": [
            "50000\n"
          ]
        },
        {
          "output_type": "execute_result",
          "data": {
            "text/html": [
              "\n",
              "  <div id=\"df-14316c5a-0504-4a3e-80f1-62cc2f010821\">\n",
              "    <div class=\"colab-df-container\">\n",
              "      <div>\n",
              "<style scoped>\n",
              "    .dataframe tbody tr th:only-of-type {\n",
              "        vertical-align: middle;\n",
              "    }\n",
              "\n",
              "    .dataframe tbody tr th {\n",
              "        vertical-align: top;\n",
              "    }\n",
              "\n",
              "    .dataframe thead th {\n",
              "        text-align: right;\n",
              "    }\n",
              "</style>\n",
              "<table border=\"1\" class=\"dataframe\">\n",
              "  <thead>\n",
              "    <tr style=\"text-align: right;\">\n",
              "      <th></th>\n",
              "      <th>id</th>\n",
              "      <th>class</th>\n",
              "      <th>vessel</th>\n",
              "      <th>animal</th>\n",
              "      <th>fly</th>\n",
              "      <th>walk</th>\n",
              "      <th>swim</th>\n",
              "      <th>jump</th>\n",
              "    </tr>\n",
              "  </thead>\n",
              "  <tbody>\n",
              "    <tr>\n",
              "      <th>0</th>\n",
              "      <td>bird_31280.jpg</td>\n",
              "      <td>bird</td>\n",
              "      <td>0.0</td>\n",
              "      <td>1.0</td>\n",
              "      <td>1.0</td>\n",
              "      <td>1.0</td>\n",
              "      <td>0.0</td>\n",
              "      <td>1.0</td>\n",
              "    </tr>\n",
              "    <tr>\n",
              "      <th>1</th>\n",
              "      <td>bird_10505.jpg</td>\n",
              "      <td>bird</td>\n",
              "      <td>0.0</td>\n",
              "      <td>1.0</td>\n",
              "      <td>1.0</td>\n",
              "      <td>1.0</td>\n",
              "      <td>0.0</td>\n",
              "      <td>1.0</td>\n",
              "    </tr>\n",
              "    <tr>\n",
              "      <th>2</th>\n",
              "      <td>dog_32946.jpg</td>\n",
              "      <td>dog</td>\n",
              "      <td>0.0</td>\n",
              "      <td>1.0</td>\n",
              "      <td>0.0</td>\n",
              "      <td>1.0</td>\n",
              "      <td>1.0</td>\n",
              "      <td>1.0</td>\n",
              "    </tr>\n",
              "    <tr>\n",
              "      <th>3</th>\n",
              "      <td>automobile_39936.jpg</td>\n",
              "      <td>automobile</td>\n",
              "      <td>1.0</td>\n",
              "      <td>0.0</td>\n",
              "      <td>0.0</td>\n",
              "      <td>0.0</td>\n",
              "      <td>0.0</td>\n",
              "      <td>0.0</td>\n",
              "    </tr>\n",
              "    <tr>\n",
              "      <th>4</th>\n",
              "      <td>bird_16695.jpg</td>\n",
              "      <td>bird</td>\n",
              "      <td>0.0</td>\n",
              "      <td>1.0</td>\n",
              "      <td>1.0</td>\n",
              "      <td>1.0</td>\n",
              "      <td>0.0</td>\n",
              "      <td>1.0</td>\n",
              "    </tr>\n",
              "  </tbody>\n",
              "</table>\n",
              "</div>\n",
              "      <button class=\"colab-df-convert\" onclick=\"convertToInteractive('df-14316c5a-0504-4a3e-80f1-62cc2f010821')\"\n",
              "              title=\"Convert this dataframe to an interactive table.\"\n",
              "              style=\"display:none;\">\n",
              "        \n",
              "  <svg xmlns=\"http://www.w3.org/2000/svg\" height=\"24px\"viewBox=\"0 0 24 24\"\n",
              "       width=\"24px\">\n",
              "    <path d=\"M0 0h24v24H0V0z\" fill=\"none\"/>\n",
              "    <path d=\"M18.56 5.44l.94 2.06.94-2.06 2.06-.94-2.06-.94-.94-2.06-.94 2.06-2.06.94zm-11 1L8.5 8.5l.94-2.06 2.06-.94-2.06-.94L8.5 2.5l-.94 2.06-2.06.94zm10 10l.94 2.06.94-2.06 2.06-.94-2.06-.94-.94-2.06-.94 2.06-2.06.94z\"/><path d=\"M17.41 7.96l-1.37-1.37c-.4-.4-.92-.59-1.43-.59-.52 0-1.04.2-1.43.59L10.3 9.45l-7.72 7.72c-.78.78-.78 2.05 0 2.83L4 21.41c.39.39.9.59 1.41.59.51 0 1.02-.2 1.41-.59l7.78-7.78 2.81-2.81c.8-.78.8-2.07 0-2.86zM5.41 20L4 18.59l7.72-7.72 1.47 1.35L5.41 20z\"/>\n",
              "  </svg>\n",
              "      </button>\n",
              "      \n",
              "  <style>\n",
              "    .colab-df-container {\n",
              "      display:flex;\n",
              "      flex-wrap:wrap;\n",
              "      gap: 12px;\n",
              "    }\n",
              "\n",
              "    .colab-df-convert {\n",
              "      background-color: #E8F0FE;\n",
              "      border: none;\n",
              "      border-radius: 50%;\n",
              "      cursor: pointer;\n",
              "      display: none;\n",
              "      fill: #1967D2;\n",
              "      height: 32px;\n",
              "      padding: 0 0 0 0;\n",
              "      width: 32px;\n",
              "    }\n",
              "\n",
              "    .colab-df-convert:hover {\n",
              "      background-color: #E2EBFA;\n",
              "      box-shadow: 0px 1px 2px rgba(60, 64, 67, 0.3), 0px 1px 3px 1px rgba(60, 64, 67, 0.15);\n",
              "      fill: #174EA6;\n",
              "    }\n",
              "\n",
              "    [theme=dark] .colab-df-convert {\n",
              "      background-color: #3B4455;\n",
              "      fill: #D2E3FC;\n",
              "    }\n",
              "\n",
              "    [theme=dark] .colab-df-convert:hover {\n",
              "      background-color: #434B5C;\n",
              "      box-shadow: 0px 1px 3px 1px rgba(0, 0, 0, 0.15);\n",
              "      filter: drop-shadow(0px 1px 2px rgba(0, 0, 0, 0.3));\n",
              "      fill: #FFFFFF;\n",
              "    }\n",
              "  </style>\n",
              "\n",
              "      <script>\n",
              "        const buttonEl =\n",
              "          document.querySelector('#df-14316c5a-0504-4a3e-80f1-62cc2f010821 button.colab-df-convert');\n",
              "        buttonEl.style.display =\n",
              "          google.colab.kernel.accessAllowed ? 'block' : 'none';\n",
              "\n",
              "        async function convertToInteractive(key) {\n",
              "          const element = document.querySelector('#df-14316c5a-0504-4a3e-80f1-62cc2f010821');\n",
              "          const dataTable =\n",
              "            await google.colab.kernel.invokeFunction('convertToInteractive',\n",
              "                                                     [key], {});\n",
              "          if (!dataTable) return;\n",
              "\n",
              "          const docLinkHtml = 'Like what you see? Visit the ' +\n",
              "            '<a target=\"_blank\" href=https://colab.research.google.com/notebooks/data_table.ipynb>data table notebook</a>'\n",
              "            + ' to learn more about interactive tables.';\n",
              "          element.innerHTML = '';\n",
              "          dataTable['output_type'] = 'display_data';\n",
              "          await google.colab.output.renderOutput(dataTable, element);\n",
              "          const docLink = document.createElement('div');\n",
              "          docLink.innerHTML = docLinkHtml;\n",
              "          element.appendChild(docLink);\n",
              "        }\n",
              "      </script>\n",
              "    </div>\n",
              "  </div>\n",
              "  "
            ],
            "text/plain": [
              "                     id       class  vessel  animal  fly  walk  swim  jump\n",
              "0        bird_31280.jpg        bird     0.0     1.0  1.0   1.0   0.0   1.0\n",
              "1        bird_10505.jpg        bird     0.0     1.0  1.0   1.0   0.0   1.0\n",
              "2         dog_32946.jpg         dog     0.0     1.0  0.0   1.0   1.0   1.0\n",
              "3  automobile_39936.jpg  automobile     1.0     0.0  0.0   0.0   0.0   0.0\n",
              "4        bird_16695.jpg        bird     0.0     1.0  1.0   1.0   0.0   1.0"
            ]
          },
          "metadata": {},
          "execution_count": 98
        }
      ],
      "source": [
        "print(len(train_df))\n",
        "train_df.head()"
      ],
      "id": "005a0d35"
    },
    {
      "cell_type": "code",
      "execution_count": null,
      "metadata": {
        "id": "0b5f1699",
        "outputId": "51c2de48-4fb0-4ba0-b407-43349737d90c",
        "colab": {
          "base_uri": "https://localhost:8080/",
          "height": 223
        }
      },
      "outputs": [
        {
          "output_type": "stream",
          "name": "stdout",
          "text": [
            "10000\n"
          ]
        },
        {
          "output_type": "execute_result",
          "data": {
            "text/html": [
              "\n",
              "  <div id=\"df-5f59997f-34c8-4b54-bdb1-31b8fdc24789\">\n",
              "    <div class=\"colab-df-container\">\n",
              "      <div>\n",
              "<style scoped>\n",
              "    .dataframe tbody tr th:only-of-type {\n",
              "        vertical-align: middle;\n",
              "    }\n",
              "\n",
              "    .dataframe tbody tr th {\n",
              "        vertical-align: top;\n",
              "    }\n",
              "\n",
              "    .dataframe thead th {\n",
              "        text-align: right;\n",
              "    }\n",
              "</style>\n",
              "<table border=\"1\" class=\"dataframe\">\n",
              "  <thead>\n",
              "    <tr style=\"text-align: right;\">\n",
              "      <th></th>\n",
              "      <th>id</th>\n",
              "      <th>class</th>\n",
              "      <th>vessel</th>\n",
              "      <th>animal</th>\n",
              "      <th>fly</th>\n",
              "      <th>walk</th>\n",
              "      <th>swim</th>\n",
              "      <th>jump</th>\n",
              "    </tr>\n",
              "  </thead>\n",
              "  <tbody>\n",
              "    <tr>\n",
              "      <th>0</th>\n",
              "      <td>automobile_9245.jpg</td>\n",
              "      <td>automobile</td>\n",
              "      <td>1.0</td>\n",
              "      <td>0.0</td>\n",
              "      <td>0.0</td>\n",
              "      <td>0.0</td>\n",
              "      <td>0.0</td>\n",
              "      <td>0.0</td>\n",
              "    </tr>\n",
              "    <tr>\n",
              "      <th>1</th>\n",
              "      <td>dog_679.jpg</td>\n",
              "      <td>dog</td>\n",
              "      <td>0.0</td>\n",
              "      <td>1.0</td>\n",
              "      <td>0.0</td>\n",
              "      <td>1.0</td>\n",
              "      <td>1.0</td>\n",
              "      <td>1.0</td>\n",
              "    </tr>\n",
              "    <tr>\n",
              "      <th>2</th>\n",
              "      <td>dog_7985.jpg</td>\n",
              "      <td>dog</td>\n",
              "      <td>0.0</td>\n",
              "      <td>1.0</td>\n",
              "      <td>0.0</td>\n",
              "      <td>1.0</td>\n",
              "      <td>1.0</td>\n",
              "      <td>1.0</td>\n",
              "    </tr>\n",
              "    <tr>\n",
              "      <th>3</th>\n",
              "      <td>automobile_439.jpg</td>\n",
              "      <td>automobile</td>\n",
              "      <td>1.0</td>\n",
              "      <td>0.0</td>\n",
              "      <td>0.0</td>\n",
              "      <td>0.0</td>\n",
              "      <td>0.0</td>\n",
              "      <td>0.0</td>\n",
              "    </tr>\n",
              "    <tr>\n",
              "      <th>4</th>\n",
              "      <td>automobile_7565.jpg</td>\n",
              "      <td>automobile</td>\n",
              "      <td>1.0</td>\n",
              "      <td>0.0</td>\n",
              "      <td>0.0</td>\n",
              "      <td>0.0</td>\n",
              "      <td>0.0</td>\n",
              "      <td>0.0</td>\n",
              "    </tr>\n",
              "  </tbody>\n",
              "</table>\n",
              "</div>\n",
              "      <button class=\"colab-df-convert\" onclick=\"convertToInteractive('df-5f59997f-34c8-4b54-bdb1-31b8fdc24789')\"\n",
              "              title=\"Convert this dataframe to an interactive table.\"\n",
              "              style=\"display:none;\">\n",
              "        \n",
              "  <svg xmlns=\"http://www.w3.org/2000/svg\" height=\"24px\"viewBox=\"0 0 24 24\"\n",
              "       width=\"24px\">\n",
              "    <path d=\"M0 0h24v24H0V0z\" fill=\"none\"/>\n",
              "    <path d=\"M18.56 5.44l.94 2.06.94-2.06 2.06-.94-2.06-.94-.94-2.06-.94 2.06-2.06.94zm-11 1L8.5 8.5l.94-2.06 2.06-.94-2.06-.94L8.5 2.5l-.94 2.06-2.06.94zm10 10l.94 2.06.94-2.06 2.06-.94-2.06-.94-.94-2.06-.94 2.06-2.06.94z\"/><path d=\"M17.41 7.96l-1.37-1.37c-.4-.4-.92-.59-1.43-.59-.52 0-1.04.2-1.43.59L10.3 9.45l-7.72 7.72c-.78.78-.78 2.05 0 2.83L4 21.41c.39.39.9.59 1.41.59.51 0 1.02-.2 1.41-.59l7.78-7.78 2.81-2.81c.8-.78.8-2.07 0-2.86zM5.41 20L4 18.59l7.72-7.72 1.47 1.35L5.41 20z\"/>\n",
              "  </svg>\n",
              "      </button>\n",
              "      \n",
              "  <style>\n",
              "    .colab-df-container {\n",
              "      display:flex;\n",
              "      flex-wrap:wrap;\n",
              "      gap: 12px;\n",
              "    }\n",
              "\n",
              "    .colab-df-convert {\n",
              "      background-color: #E8F0FE;\n",
              "      border: none;\n",
              "      border-radius: 50%;\n",
              "      cursor: pointer;\n",
              "      display: none;\n",
              "      fill: #1967D2;\n",
              "      height: 32px;\n",
              "      padding: 0 0 0 0;\n",
              "      width: 32px;\n",
              "    }\n",
              "\n",
              "    .colab-df-convert:hover {\n",
              "      background-color: #E2EBFA;\n",
              "      box-shadow: 0px 1px 2px rgba(60, 64, 67, 0.3), 0px 1px 3px 1px rgba(60, 64, 67, 0.15);\n",
              "      fill: #174EA6;\n",
              "    }\n",
              "\n",
              "    [theme=dark] .colab-df-convert {\n",
              "      background-color: #3B4455;\n",
              "      fill: #D2E3FC;\n",
              "    }\n",
              "\n",
              "    [theme=dark] .colab-df-convert:hover {\n",
              "      background-color: #434B5C;\n",
              "      box-shadow: 0px 1px 3px 1px rgba(0, 0, 0, 0.15);\n",
              "      filter: drop-shadow(0px 1px 2px rgba(0, 0, 0, 0.3));\n",
              "      fill: #FFFFFF;\n",
              "    }\n",
              "  </style>\n",
              "\n",
              "      <script>\n",
              "        const buttonEl =\n",
              "          document.querySelector('#df-5f59997f-34c8-4b54-bdb1-31b8fdc24789 button.colab-df-convert');\n",
              "        buttonEl.style.display =\n",
              "          google.colab.kernel.accessAllowed ? 'block' : 'none';\n",
              "\n",
              "        async function convertToInteractive(key) {\n",
              "          const element = document.querySelector('#df-5f59997f-34c8-4b54-bdb1-31b8fdc24789');\n",
              "          const dataTable =\n",
              "            await google.colab.kernel.invokeFunction('convertToInteractive',\n",
              "                                                     [key], {});\n",
              "          if (!dataTable) return;\n",
              "\n",
              "          const docLinkHtml = 'Like what you see? Visit the ' +\n",
              "            '<a target=\"_blank\" href=https://colab.research.google.com/notebooks/data_table.ipynb>data table notebook</a>'\n",
              "            + ' to learn more about interactive tables.';\n",
              "          element.innerHTML = '';\n",
              "          dataTable['output_type'] = 'display_data';\n",
              "          await google.colab.output.renderOutput(dataTable, element);\n",
              "          const docLink = document.createElement('div');\n",
              "          docLink.innerHTML = docLinkHtml;\n",
              "          element.appendChild(docLink);\n",
              "        }\n",
              "      </script>\n",
              "    </div>\n",
              "  </div>\n",
              "  "
            ],
            "text/plain": [
              "                    id       class  vessel  animal  fly  walk  swim  jump\n",
              "0  automobile_9245.jpg  automobile     1.0     0.0  0.0   0.0   0.0   0.0\n",
              "1          dog_679.jpg         dog     0.0     1.0  0.0   1.0   1.0   1.0\n",
              "2         dog_7985.jpg         dog     0.0     1.0  0.0   1.0   1.0   1.0\n",
              "3   automobile_439.jpg  automobile     1.0     0.0  0.0   0.0   0.0   0.0\n",
              "4  automobile_7565.jpg  automobile     1.0     0.0  0.0   0.0   0.0   0.0"
            ]
          },
          "metadata": {},
          "execution_count": 99
        }
      ],
      "source": [
        "print(len(test_df))\n",
        "test_df.head()"
      ],
      "id": "0b5f1699"
    },
    {
      "cell_type": "code",
      "source": [
        "train_df['class'].value_counts()"
      ],
      "metadata": {
        "colab": {
          "base_uri": "https://localhost:8080/"
        },
        "id": "vq9Bzfjml3pt",
        "outputId": "239c0970-163b-4222-94d5-cc31e62f578b"
      },
      "id": "vq9Bzfjml3pt",
      "execution_count": null,
      "outputs": [
        {
          "output_type": "execute_result",
          "data": {
            "text/plain": [
              "bird          5000\n",
              "dog           5000\n",
              "automobile    5000\n",
              "cat           5000\n",
              "airplane      5000\n",
              "ship          5000\n",
              "deer          5000\n",
              "horse         5000\n",
              "truck         5000\n",
              "frog          5000\n",
              "Name: class, dtype: int64"
            ]
          },
          "metadata": {},
          "execution_count": 100
        }
      ]
    },
    {
      "cell_type": "code",
      "source": [
        "test_df['class'].value_counts()"
      ],
      "metadata": {
        "colab": {
          "base_uri": "https://localhost:8080/"
        },
        "id": "IJMeCr-Ds44t",
        "outputId": "f03cf312-0671-449f-c9f4-9936c5ce15be"
      },
      "id": "IJMeCr-Ds44t",
      "execution_count": null,
      "outputs": [
        {
          "output_type": "execute_result",
          "data": {
            "text/plain": [
              "automobile    1000\n",
              "dog           1000\n",
              "horse         1000\n",
              "deer          1000\n",
              "truck         1000\n",
              "bird          1000\n",
              "cat           1000\n",
              "ship          1000\n",
              "frog          1000\n",
              "airplane      1000\n",
              "Name: class, dtype: int64"
            ]
          },
          "metadata": {},
          "execution_count": 101
        }
      ]
    },
    {
      "cell_type": "code",
      "source": [
        "from keras.preprocessing import image\n",
        "def train_test_builder(df, path, SIZE = 32):\n",
        "  X= []\n",
        "  for i in tqdm(range(df.shape[0])):\n",
        "    img = image.load_img(path + '/' + df['id'][i], target_size=(SIZE, SIZE))\n",
        "    # img = path + '/' +  train_df['id'][i]\n",
        "    img = image.img_to_array(img)\n",
        "    X.append(img)\n",
        "  \n",
        "  #normalize\n",
        "  X = tf.keras.utils.normalize(X, axis = 1)\n",
        "\n",
        "  #make array\n",
        "  X = np.array(X)\n",
        "  \n",
        "  #get labels\n",
        "  y = np.array(df.drop(['id', 'class'], axis = 1))\n",
        "  yclass = df['class'].values\n",
        "  return X, y, yclass"
      ],
      "metadata": {
        "id": "BJSY1ihZbxIy"
      },
      "id": "BJSY1ihZbxIy",
      "execution_count": null,
      "outputs": []
    },
    {
      "cell_type": "code",
      "source": [
        "X_train, y_train, train_class = train_test_builder(train_df, path_save_images_train)\n",
        "X_test, y_test, test_class = train_test_builder(test_df, path_save_images_test)"
      ],
      "metadata": {
        "colab": {
          "base_uri": "https://localhost:8080/"
        },
        "id": "0bfxGy_bcnR4",
        "outputId": "3cdd7d1d-8adc-4e99-9415-ce168db639e0"
      },
      "id": "0bfxGy_bcnR4",
      "execution_count": null,
      "outputs": [
        {
          "output_type": "stream",
          "name": "stderr",
          "text": [
            "100%|██████████| 50000/50000 [00:11<00:00, 4172.20it/s]\n",
            "100%|██████████| 10000/10000 [00:02<00:00, 4196.00it/s]\n"
          ]
        }
      ]
    },
    {
      "cell_type": "code",
      "source": [
        "# X_train, y_train = shuffle(X_train, y_train)\n",
        "# X_test, y_test = shuffle(X_test, y_test)"
      ],
      "metadata": {
        "id": "Spbu3c55tPhM"
      },
      "id": "Spbu3c55tPhM",
      "execution_count": null,
      "outputs": []
    },
    {
      "cell_type": "code",
      "source": [
        "print(X_train.shape, y_train.shape)\n",
        "print(X_test.shape, y_test.shape)"
      ],
      "metadata": {
        "colab": {
          "base_uri": "https://localhost:8080/"
        },
        "id": "Wyn-4iPTnC-g",
        "outputId": "bbbf7be5-e61b-44ca-eff5-4cc047284bd8"
      },
      "id": "Wyn-4iPTnC-g",
      "execution_count": null,
      "outputs": [
        {
          "output_type": "stream",
          "name": "stdout",
          "text": [
            "(50000, 32, 32, 3) (50000, 6)\n",
            "(10000, 32, 32, 3) (10000, 6)\n"
          ]
        }
      ]
    },
    {
      "cell_type": "code",
      "source": [
        "epochs = 50\n",
        "activation = 'relu'\n",
        "output_size = 6\n",
        "model = Sequential()\n",
        "model.add(Conv2D(32, kernel_size = (3, 3), padding = 'same', activation = activation, \n",
        "                 input_shape = (32, 32, 3)))\n",
        "model.add(BatchNormalization())\n",
        "\n",
        "model.add(Conv2D(32, kernel_size = (3, 3), padding = 'same', activation = activation))\n",
        "model.add(BatchNormalization())\n",
        "model.add(MaxPooling2D(2,2))\n",
        "\n",
        "model.add(Conv2D(64, kernel_size = (3, 3), padding = 'same', activation = activation))\n",
        "model.add(BatchNormalization())\n",
        "\n",
        "model.add(Conv2D(64, kernel_size = (3, 3), padding = 'same', activation = activation))\n",
        "model.add(BatchNormalization())\n",
        "model.add(MaxPooling2D(2,2))\n",
        "\n",
        "model.add(Conv2D(128, kernel_size = (3, 3), padding = 'same', activation = activation))\n",
        "model.add(BatchNormalization())\n",
        "\n",
        "model.add(Conv2D(128, kernel_size = (3, 3), padding = 'same', activation = activation))\n",
        "model.add(BatchNormalization())\n",
        "model.add(MaxPooling2D(2,2))\n",
        "\n",
        "model.add(Conv2D(256, kernel_size = (3, 3), padding = 'same', activation = activation))\n",
        "model.add(BatchNormalization())\n",
        "\n",
        "\n",
        "model.add(Conv2D(256, kernel_size = (3, 3), padding = 'same', activation = activation))\n",
        "model.add(BatchNormalization())\n",
        "model.add(MaxPooling2D(2,2))\n",
        "\n",
        "\n",
        "model.add(Flatten())\n",
        "model.add(Dense(512, activation = activation))\n",
        "model.add(BatchNormalization())\n",
        "\n",
        "model.add(Dense(output_size, activation = 'sigmoid'))\n",
        "\n",
        "model.compile(optimizer='adam', loss = 'binary_crossentropy', metrics = ['accuracy'])\n",
        "print(model.summary())"
      ],
      "metadata": {
        "colab": {
          "base_uri": "https://localhost:8080/"
        },
        "id": "5N8EwQSKFnz_",
        "outputId": "dfc31ce7-edbe-47b2-9c6c-aa15b7d1f95d"
      },
      "id": "5N8EwQSKFnz_",
      "execution_count": null,
      "outputs": [
        {
          "output_type": "stream",
          "name": "stdout",
          "text": [
            "Model: \"sequential_14\"\n",
            "_________________________________________________________________\n",
            " Layer (type)                Output Shape              Param #   \n",
            "=================================================================\n",
            " conv2d_70 (Conv2D)          (None, 32, 32, 32)        896       \n",
            "                                                                 \n",
            " batch_normalization_34 (Bat  (None, 32, 32, 32)       128       \n",
            " chNormalization)                                                \n",
            "                                                                 \n",
            " conv2d_71 (Conv2D)          (None, 32, 32, 32)        9248      \n",
            "                                                                 \n",
            " batch_normalization_35 (Bat  (None, 32, 32, 32)       128       \n",
            " chNormalization)                                                \n",
            "                                                                 \n",
            " max_pooling2d_45 (MaxPoolin  (None, 16, 16, 32)       0         \n",
            " g2D)                                                            \n",
            "                                                                 \n",
            " conv2d_72 (Conv2D)          (None, 16, 16, 64)        18496     \n",
            "                                                                 \n",
            " batch_normalization_36 (Bat  (None, 16, 16, 64)       256       \n",
            " chNormalization)                                                \n",
            "                                                                 \n",
            " conv2d_73 (Conv2D)          (None, 16, 16, 64)        36928     \n",
            "                                                                 \n",
            " batch_normalization_37 (Bat  (None, 16, 16, 64)       256       \n",
            " chNormalization)                                                \n",
            "                                                                 \n",
            " max_pooling2d_46 (MaxPoolin  (None, 8, 8, 64)         0         \n",
            " g2D)                                                            \n",
            "                                                                 \n",
            " conv2d_74 (Conv2D)          (None, 8, 8, 128)         73856     \n",
            "                                                                 \n",
            " batch_normalization_38 (Bat  (None, 8, 8, 128)        512       \n",
            " chNormalization)                                                \n",
            "                                                                 \n",
            " conv2d_75 (Conv2D)          (None, 8, 8, 128)         147584    \n",
            "                                                                 \n",
            " batch_normalization_39 (Bat  (None, 8, 8, 128)        512       \n",
            " chNormalization)                                                \n",
            "                                                                 \n",
            " max_pooling2d_47 (MaxPoolin  (None, 4, 4, 128)        0         \n",
            " g2D)                                                            \n",
            "                                                                 \n",
            " conv2d_76 (Conv2D)          (None, 4, 4, 256)         295168    \n",
            "                                                                 \n",
            " batch_normalization_40 (Bat  (None, 4, 4, 256)        1024      \n",
            " chNormalization)                                                \n",
            "                                                                 \n",
            " conv2d_77 (Conv2D)          (None, 4, 4, 256)         590080    \n",
            "                                                                 \n",
            " batch_normalization_41 (Bat  (None, 4, 4, 256)        1024      \n",
            " chNormalization)                                                \n",
            "                                                                 \n",
            " max_pooling2d_48 (MaxPoolin  (None, 2, 2, 256)        0         \n",
            " g2D)                                                            \n",
            "                                                                 \n",
            " flatten_13 (Flatten)        (None, 1024)              0         \n",
            "                                                                 \n",
            " dense_26 (Dense)            (None, 512)               524800    \n",
            "                                                                 \n",
            " batch_normalization_42 (Bat  (None, 512)              2048      \n",
            " chNormalization)                                                \n",
            "                                                                 \n",
            " dense_27 (Dense)            (None, 6)                 3078      \n",
            "                                                                 \n",
            "=================================================================\n",
            "Total params: 1,706,022\n",
            "Trainable params: 1,703,078\n",
            "Non-trainable params: 2,944\n",
            "_________________________________________________________________\n",
            "None\n"
          ]
        }
      ]
    },
    {
      "cell_type": "code",
      "source": [
        "history = model.fit(X_train, y_train, epochs = epochs)"
      ],
      "metadata": {
        "colab": {
          "base_uri": "https://localhost:8080/"
        },
        "id": "eJjtpP_4LcDJ",
        "outputId": "d1c87ee7-8db3-4409-a5ae-95cf9cff032a"
      },
      "execution_count": null,
      "outputs": [
        {
          "output_type": "stream",
          "name": "stdout",
          "text": [
            "Epoch 1/50\n",
            "1563/1563 [==============================] - 14s 8ms/step - loss: 0.4060 - accuracy: 0.4093\n",
            "Epoch 2/50\n",
            "1563/1563 [==============================] - 12s 8ms/step - loss: 0.3344 - accuracy: 0.4251\n",
            "Epoch 3/50\n",
            "1563/1563 [==============================] - 12s 8ms/step - loss: 0.3054 - accuracy: 0.4308\n",
            "Epoch 4/50\n",
            "1563/1563 [==============================] - 12s 8ms/step - loss: 0.2822 - accuracy: 0.4044\n",
            "Epoch 5/50\n",
            "1563/1563 [==============================] - 12s 8ms/step - loss: 0.2612 - accuracy: 0.4139\n",
            "Epoch 6/50\n",
            "1563/1563 [==============================] - 12s 8ms/step - loss: 0.2426 - accuracy: 0.4074\n",
            "Epoch 7/50\n",
            "1563/1563 [==============================] - 12s 8ms/step - loss: 0.2250 - accuracy: 0.4194\n",
            "Epoch 8/50\n",
            "1563/1563 [==============================] - 12s 8ms/step - loss: 0.2104 - accuracy: 0.4227\n",
            "Epoch 9/50\n",
            "1563/1563 [==============================] - 13s 8ms/step - loss: 0.1965 - accuracy: 0.4012\n",
            "Epoch 10/50\n",
            "1563/1563 [==============================] - 13s 8ms/step - loss: 0.1849 - accuracy: 0.3834\n",
            "Epoch 11/50\n",
            "1563/1563 [==============================] - 12s 8ms/step - loss: 0.1771 - accuracy: 0.4077\n",
            "Epoch 12/50\n",
            "1563/1563 [==============================] - 12s 8ms/step - loss: 0.1716 - accuracy: 0.4353\n",
            "Epoch 13/50\n",
            "1563/1563 [==============================] - 12s 8ms/step - loss: 0.1663 - accuracy: 0.4533\n",
            "Epoch 14/50\n",
            "1563/1563 [==============================] - 12s 8ms/step - loss: 0.1632 - accuracy: 0.4142\n",
            "Epoch 15/50\n",
            "1563/1563 [==============================] - 12s 8ms/step - loss: 0.1578 - accuracy: 0.4386\n",
            "Epoch 16/50\n",
            "1563/1563 [==============================] - 12s 8ms/step - loss: 0.1535 - accuracy: 0.4451\n",
            "Epoch 17/50\n",
            "1563/1563 [==============================] - 12s 8ms/step - loss: 0.1496 - accuracy: 0.4388\n",
            "Epoch 18/50\n",
            "1563/1563 [==============================] - 12s 8ms/step - loss: 0.1437 - accuracy: 0.4697\n",
            "Epoch 19/50\n",
            "1563/1563 [==============================] - 12s 8ms/step - loss: 0.1361 - accuracy: 0.4966\n",
            "Epoch 20/50\n",
            "1563/1563 [==============================] - 12s 8ms/step - loss: 0.1272 - accuracy: 0.4585\n",
            "Epoch 21/50\n",
            "1563/1563 [==============================] - 12s 8ms/step - loss: 0.1169 - accuracy: 0.5124\n",
            "Epoch 22/50\n",
            "1563/1563 [==============================] - 12s 8ms/step - loss: 0.1028 - accuracy: 0.5094\n",
            "Epoch 23/50\n",
            "1563/1563 [==============================] - 12s 8ms/step - loss: 0.0923 - accuracy: 0.4779\n",
            "Epoch 24/50\n",
            "1563/1563 [==============================] - 12s 8ms/step - loss: 0.0823 - accuracy: 0.4950\n",
            "Epoch 25/50\n",
            "1563/1563 [==============================] - 12s 8ms/step - loss: 0.0759 - accuracy: 0.5345\n",
            "Epoch 26/50\n",
            "1563/1563 [==============================] - 12s 8ms/step - loss: 0.0710 - accuracy: 0.5388\n",
            "Epoch 27/50\n",
            "1563/1563 [==============================] - 12s 8ms/step - loss: 0.0649 - accuracy: 0.5719\n",
            "Epoch 28/50\n",
            "1563/1563 [==============================] - 12s 8ms/step - loss: 0.0640 - accuracy: 0.5602\n",
            "Epoch 29/50\n",
            "1563/1563 [==============================] - 12s 8ms/step - loss: 0.0578 - accuracy: 0.5354\n",
            "Epoch 30/50\n",
            "1563/1563 [==============================] - 12s 8ms/step - loss: 0.0564 - accuracy: 0.5383\n",
            "Epoch 31/50\n",
            "1563/1563 [==============================] - 12s 8ms/step - loss: 0.0553 - accuracy: 0.5184\n",
            "Epoch 32/50\n",
            "1563/1563 [==============================] - 12s 8ms/step - loss: 0.0499 - accuracy: 0.5165\n",
            "Epoch 33/50\n",
            "1563/1563 [==============================] - 12s 8ms/step - loss: 0.0464 - accuracy: 0.4907\n",
            "Epoch 34/50\n",
            "1563/1563 [==============================] - 12s 8ms/step - loss: 0.0435 - accuracy: 0.4718\n",
            "Epoch 35/50\n",
            "1563/1563 [==============================] - 13s 8ms/step - loss: 0.0453 - accuracy: 0.4878\n",
            "Epoch 36/50\n",
            "1563/1563 [==============================] - 12s 8ms/step - loss: 0.0372 - accuracy: 0.5128\n",
            "Epoch 37/50\n",
            "1563/1563 [==============================] - 12s 8ms/step - loss: 0.0359 - accuracy: 0.5055\n",
            "Epoch 38/50\n",
            "1563/1563 [==============================] - 12s 8ms/step - loss: 0.0391 - accuracy: 0.5095\n",
            "Epoch 39/50\n",
            "1563/1563 [==============================] - 12s 8ms/step - loss: 0.0293 - accuracy: 0.4912\n",
            "Epoch 40/50\n",
            "1563/1563 [==============================] - 12s 8ms/step - loss: 0.0312 - accuracy: 0.5074\n",
            "Epoch 41/50\n",
            "1563/1563 [==============================] - 12s 8ms/step - loss: 0.0302 - accuracy: 0.5180\n",
            "Epoch 42/50\n",
            "1563/1563 [==============================] - 12s 8ms/step - loss: 0.0281 - accuracy: 0.5410\n",
            "Epoch 43/50\n",
            "1563/1563 [==============================] - 12s 8ms/step - loss: 0.0295 - accuracy: 0.5144\n",
            "Epoch 44/50\n",
            "1563/1563 [==============================] - 12s 8ms/step - loss: 0.0277 - accuracy: 0.5184\n",
            "Epoch 45/50\n",
            "1563/1563 [==============================] - 13s 8ms/step - loss: 0.0253 - accuracy: 0.5194\n",
            "Epoch 46/50\n",
            "1563/1563 [==============================] - 13s 8ms/step - loss: 0.0253 - accuracy: 0.5457\n",
            "Epoch 47/50\n",
            "1563/1563 [==============================] - 12s 8ms/step - loss: 0.0248 - accuracy: 0.5395\n",
            "Epoch 48/50\n",
            "1563/1563 [==============================] - 12s 8ms/step - loss: 0.0236 - accuracy: 0.4701\n",
            "Epoch 49/50\n",
            "1563/1563 [==============================] - 12s 8ms/step - loss: 0.0223 - accuracy: 0.5201\n",
            "Epoch 50/50\n",
            "1563/1563 [==============================] - 12s 8ms/step - loss: 0.0219 - accuracy: 0.5397\n"
          ]
        }
      ],
      "id": "eJjtpP_4LcDJ"
    },
    {
      "cell_type": "code",
      "source": [
        "f = plt.figure(figsize=(15,5))\n",
        "f.add_subplot(1, 2, 1)\n",
        "loss = history.history['loss']\n",
        "epochs = range(1, len(loss) +1)\n",
        "plt.plot(epochs, loss, 'r', label ='Training loss')\n",
        "plt.title('Training loss')\n",
        "plt.xlabel('epochs')\n",
        "plt.ylabel('Loss')\n",
        "plt.legend()\n",
        "f.add_subplot(1,2, 2)\n",
        "accuracy = history.history['accuracy']\n",
        "epochs = range(1, len(loss) +1)\n",
        "plt.plot(epochs, accuracy, 'g', label ='Training accuracy')\n",
        "plt.title('Training accuracy')\n",
        "plt.xlabel('epochs')\n",
        "plt.ylabel('accuracy')\n",
        "plt.legend()\n",
        "plt.savefig(\"/content/multitrain.jpg\")\n",
        "plt.show(block=True)\n"
      ],
      "metadata": {
        "colab": {
          "base_uri": "https://localhost:8080/",
          "height": 350
        },
        "outputId": "fc328c1e-9adf-4462-b924-b19f17e9d6ca",
        "id": "3OOtCnigLcDK"
      },
      "execution_count": null,
      "outputs": [
        {
          "output_type": "display_data",
          "data": {
            "image/png": "[encoded data removed]",
            "text/plain": [
              "<Figure size 1080x360 with 2 Axes>"
            ]
          },
          "metadata": {
            "needs_background": "light"
          }
        }
      ],
      "id": "3OOtCnigLcDK"
    },
    {
      "cell_type": "code",
      "source": [
        "preds = model.predict(X_test)"
      ],
      "metadata": {
        "id": "S_oyj42kLcDK"
      },
      "execution_count": null,
      "outputs": [],
      "id": "S_oyj42kLcDK"
    },
    {
      "cell_type": "code",
      "source": [
        "result = []\n",
        "for i in range(len(preds)):\n",
        "  a = [i for i,v in enumerate(preds[i]) if v > 0.5]\n",
        "  y_pred = [0] * 6\n",
        "  for j in a:\n",
        "    y_pred[j] = 1.0\n",
        "  result.append(y_pred)\n",
        "result = np.array(result)"
      ],
      "metadata": {
        "id": "GV7pWdyNLcDL"
      },
      "execution_count": null,
      "outputs": [],
      "id": "GV7pWdyNLcDL"
    },
    {
      "cell_type": "code",
      "source": [
        "print(accuracy_score(y_test, result))"
      ],
      "metadata": {
        "colab": {
          "base_uri": "https://localhost:8080/"
        },
        "outputId": "d4b403c8-a2fc-43fa-c1af-916baef9ea0c",
        "id": "ASnjy3YHLcDL"
      },
      "execution_count": null,
      "outputs": [
        {
          "output_type": "stream",
          "name": "stdout",
          "text": [
            "0.8632\n"
          ]
        }
      ],
      "id": "ASnjy3YHLcDL"
    },
    {
      "cell_type": "code",
      "source": [
        "print(classification_report(y_test, result, target_names = ['vessel', 'animal', 'fly', 'walk', 'swim', 'jump']))"
      ],
      "metadata": {
        "colab": {
          "base_uri": "https://localhost:8080/"
        },
        "outputId": "bc90f4f9-e37e-4d39-a734-200036681e96",
        "id": "S3kf7vfJLcDM"
      },
      "execution_count": null,
      "outputs": [
        {
          "output_type": "stream",
          "name": "stdout",
          "text": [
            "              precision    recall  f1-score   support\n",
            "\n",
            "      vessel       0.95      0.93      0.94      4000\n",
            "      animal       0.96      0.97      0.96      6000\n",
            "         fly       0.77      0.78      0.78      2000\n",
            "        walk       0.96      0.97      0.96      6000\n",
            "        swim       0.91      0.92      0.91      6000\n",
            "        jump       0.96      0.97      0.96      6000\n",
            "\n",
            "   micro avg       0.93      0.94      0.94     30000\n",
            "   macro avg       0.92      0.92      0.92     30000\n",
            "weighted avg       0.93      0.94      0.94     30000\n",
            " samples avg       0.94      0.94      0.94     30000\n",
            "\n"
          ]
        }
      ],
      "id": "S3kf7vfJLcDM"
    },
    {
      "cell_type": "code",
      "source": [
        "result_df = pd.DataFrame()\n",
        "for i in range(len(y_test)):\n",
        "  result_df = result_df.append({'true_class':test_class[i], 'true labels':y_test[i], 'predicted':result[i]}, ignore_index = True)"
      ],
      "metadata": {
        "id": "a4_NnxmdyYE1"
      },
      "id": "a4_NnxmdyYE1",
      "execution_count": null,
      "outputs": []
    },
    {
      "cell_type": "code",
      "source": [
        "result_df"
      ],
      "metadata": {
        "id": "C7J7n8DDzJhf",
        "colab": {
          "base_uri": "https://localhost:8080/",
          "height": 423
        },
        "outputId": "9e951ed1-d435-497b-aa3a-abad29b7d2f6"
      },
      "id": "C7J7n8DDzJhf",
      "execution_count": null,
      "outputs": [
        {
          "output_type": "execute_result",
          "data": {
            "text/html": [
              "\n",
              "  <div id=\"df-afd1988a-84a7-40ea-9174-417949e70f07\">\n",
              "    <div class=\"colab-df-container\">\n",
              "      <div>\n",
              "<style scoped>\n",
              "    .dataframe tbody tr th:only-of-type {\n",
              "        vertical-align: middle;\n",
              "    }\n",
              "\n",
              "    .dataframe tbody tr th {\n",
              "        vertical-align: top;\n",
              "    }\n",
              "\n",
              "    .dataframe thead th {\n",
              "        text-align: right;\n",
              "    }\n",
              "</style>\n",
              "<table border=\"1\" class=\"dataframe\">\n",
              "  <thead>\n",
              "    <tr style=\"text-align: right;\">\n",
              "      <th></th>\n",
              "      <th>true_class</th>\n",
              "      <th>true labels</th>\n",
              "      <th>predicted</th>\n",
              "    </tr>\n",
              "  </thead>\n",
              "  <tbody>\n",
              "    <tr>\n",
              "      <th>0</th>\n",
              "      <td>automobile</td>\n",
              "      <td>[1.0, 0.0, 0.0, 0.0, 0.0, 0.0]</td>\n",
              "      <td>[1.0, 0.0, 0.0, 0.0, 0.0, 0.0]</td>\n",
              "    </tr>\n",
              "    <tr>\n",
              "      <th>1</th>\n",
              "      <td>dog</td>\n",
              "      <td>[0.0, 1.0, 0.0, 1.0, 1.0, 1.0]</td>\n",
              "      <td>[0.0, 1.0, 0.0, 1.0, 1.0, 1.0]</td>\n",
              "    </tr>\n",
              "    <tr>\n",
              "      <th>2</th>\n",
              "      <td>dog</td>\n",
              "      <td>[0.0, 1.0, 0.0, 1.0, 1.0, 1.0]</td>\n",
              "      <td>[0.0, 1.0, 0.0, 1.0, 1.0, 1.0]</td>\n",
              "    </tr>\n",
              "    <tr>\n",
              "      <th>3</th>\n",
              "      <td>automobile</td>\n",
              "      <td>[1.0, 0.0, 0.0, 0.0, 0.0, 0.0]</td>\n",
              "      <td>[1.0, 0.0, 0.0, 0.0, 0.0, 0.0]</td>\n",
              "    </tr>\n",
              "    <tr>\n",
              "      <th>4</th>\n",
              "      <td>automobile</td>\n",
              "      <td>[1.0, 0.0, 0.0, 0.0, 0.0, 0.0]</td>\n",
              "      <td>[1.0, 0.0, 0.0, 0.0, 0.0, 0.0]</td>\n",
              "    </tr>\n",
              "    <tr>\n",
              "      <th>...</th>\n",
              "      <td>...</td>\n",
              "      <td>...</td>\n",
              "      <td>...</td>\n",
              "    </tr>\n",
              "    <tr>\n",
              "      <th>9995</th>\n",
              "      <td>automobile</td>\n",
              "      <td>[1.0, 0.0, 0.0, 0.0, 0.0, 0.0]</td>\n",
              "      <td>[1.0, 0.0, 0.0, 0.0, 0.0, 0.0]</td>\n",
              "    </tr>\n",
              "    <tr>\n",
              "      <th>9996</th>\n",
              "      <td>truck</td>\n",
              "      <td>[1.0, 0.0, 0.0, 0.0, 0.0, 0.0]</td>\n",
              "      <td>[1.0, 0.0, 0.0, 0.0, 0.0, 0.0]</td>\n",
              "    </tr>\n",
              "    <tr>\n",
              "      <th>9997</th>\n",
              "      <td>dog</td>\n",
              "      <td>[0.0, 1.0, 0.0, 1.0, 1.0, 1.0]</td>\n",
              "      <td>[0.0, 1.0, 0.0, 1.0, 1.0, 1.0]</td>\n",
              "    </tr>\n",
              "    <tr>\n",
              "      <th>9998</th>\n",
              "      <td>deer</td>\n",
              "      <td>[0.0, 1.0, 0.0, 1.0, 1.0, 1.0]</td>\n",
              "      <td>[0.0, 1.0, 0.0, 1.0, 1.0, 1.0]</td>\n",
              "    </tr>\n",
              "    <tr>\n",
              "      <th>9999</th>\n",
              "      <td>dog</td>\n",
              "      <td>[0.0, 1.0, 0.0, 1.0, 1.0, 1.0]</td>\n",
              "      <td>[0.0, 1.0, 0.0, 1.0, 1.0, 1.0]</td>\n",
              "    </tr>\n",
              "  </tbody>\n",
              "</table>\n",
              "<p>10000 rows × 3 columns</p>\n",
              "</div>\n",
              "      <button class=\"colab-df-convert\" onclick=\"convertToInteractive('df-afd1988a-84a7-40ea-9174-417949e70f07')\"\n",
              "              title=\"Convert this dataframe to an interactive table.\"\n",
              "              style=\"display:none;\">\n",
              "        \n",
              "  <svg xmlns=\"http://www.w3.org/2000/svg\" height=\"24px\"viewBox=\"0 0 24 24\"\n",
              "       width=\"24px\">\n",
              "    <path d=\"M0 0h24v24H0V0z\" fill=\"none\"/>\n",
              "    <path d=\"M18.56 5.44l.94 2.06.94-2.06 2.06-.94-2.06-.94-.94-2.06-.94 2.06-2.06.94zm-11 1L8.5 8.5l.94-2.06 2.06-.94-2.06-.94L8.5 2.5l-.94 2.06-2.06.94zm10 10l.94 2.06.94-2.06 2.06-.94-2.06-.94-.94-2.06-.94 2.06-2.06.94z\"/><path d=\"M17.41 7.96l-1.37-1.37c-.4-.4-.92-.59-1.43-.59-.52 0-1.04.2-1.43.59L10.3 9.45l-7.72 7.72c-.78.78-.78 2.05 0 2.83L4 21.41c.39.39.9.59 1.41.59.51 0 1.02-.2 1.41-.59l7.78-7.78 2.81-2.81c.8-.78.8-2.07 0-2.86zM5.41 20L4 18.59l7.72-7.72 1.47 1.35L5.41 20z\"/>\n",
              "  </svg>\n",
              "      </button>\n",
              "      \n",
              "  <style>\n",
              "    .colab-df-container {\n",
              "      display:flex;\n",
              "      flex-wrap:wrap;\n",
              "      gap: 12px;\n",
              "    }\n",
              "\n",
              "    .colab-df-convert {\n",
              "      background-color: #E8F0FE;\n",
              "      border: none;\n",
              "      border-radius: 50%;\n",
              "      cursor: pointer;\n",
              "      display: none;\n",
              "      fill: #1967D2;\n",
              "      height: 32px;\n",
              "      padding: 0 0 0 0;\n",
              "      width: 32px;\n",
              "    }\n",
              "\n",
              "    .colab-df-convert:hover {\n",
              "      background-color: #E2EBFA;\n",
              "      box-shadow: 0px 1px 2px rgba(60, 64, 67, 0.3), 0px 1px 3px 1px rgba(60, 64, 67, 0.15);\n",
              "      fill: #174EA6;\n",
              "    }\n",
              "\n",
              "    [theme=dark] .colab-df-convert {\n",
              "      background-color: #3B4455;\n",
              "      fill: #D2E3FC;\n",
              "    }\n",
              "\n",
              "    [theme=dark] .colab-df-convert:hover {\n",
              "      background-color: #434B5C;\n",
              "      box-shadow: 0px 1px 3px 1px rgba(0, 0, 0, 0.15);\n",
              "      filter: drop-shadow(0px 1px 2px rgba(0, 0, 0, 0.3));\n",
              "      fill: #FFFFFF;\n",
              "    }\n",
              "  </style>\n",
              "\n",
              "      <script>\n",
              "        const buttonEl =\n",
              "          document.querySelector('#df-afd1988a-84a7-40ea-9174-417949e70f07 button.colab-df-convert');\n",
              "        buttonEl.style.display =\n",
              "          google.colab.kernel.accessAllowed ? 'block' : 'none';\n",
              "\n",
              "        async function convertToInteractive(key) {\n",
              "          const element = document.querySelector('#df-afd1988a-84a7-40ea-9174-417949e70f07');\n",
              "          const dataTable =\n",
              "            await google.colab.kernel.invokeFunction('convertToInteractive',\n",
              "                                                     [key], {});\n",
              "          if (!dataTable) return;\n",
              "\n",
              "          const docLinkHtml = 'Like what you see? Visit the ' +\n",
              "            '<a target=\"_blank\" href=https://colab.research.google.com/notebooks/data_table.ipynb>data table notebook</a>'\n",
              "            + ' to learn more about interactive tables.';\n",
              "          element.innerHTML = '';\n",
              "          dataTable['output_type'] = 'display_data';\n",
              "          await google.colab.output.renderOutput(dataTable, element);\n",
              "          const docLink = document.createElement('div');\n",
              "          docLink.innerHTML = docLinkHtml;\n",
              "          element.appendChild(docLink);\n",
              "        }\n",
              "      </script>\n",
              "    </div>\n",
              "  </div>\n",
              "  "
            ],
            "text/plain": [
              "      true_class                     true labels  \\\n",
              "0     automobile  [1.0, 0.0, 0.0, 0.0, 0.0, 0.0]   \n",
              "1            dog  [0.0, 1.0, 0.0, 1.0, 1.0, 1.0]   \n",
              "2            dog  [0.0, 1.0, 0.0, 1.0, 1.0, 1.0]   \n",
              "3     automobile  [1.0, 0.0, 0.0, 0.0, 0.0, 0.0]   \n",
              "4     automobile  [1.0, 0.0, 0.0, 0.0, 0.0, 0.0]   \n",
              "...          ...                             ...   \n",
              "9995  automobile  [1.0, 0.0, 0.0, 0.0, 0.0, 0.0]   \n",
              "9996       truck  [1.0, 0.0, 0.0, 0.0, 0.0, 0.0]   \n",
              "9997         dog  [0.0, 1.0, 0.0, 1.0, 1.0, 1.0]   \n",
              "9998        deer  [0.0, 1.0, 0.0, 1.0, 1.0, 1.0]   \n",
              "9999         dog  [0.0, 1.0, 0.0, 1.0, 1.0, 1.0]   \n",
              "\n",
              "                           predicted  \n",
              "0     [1.0, 0.0, 0.0, 0.0, 0.0, 0.0]  \n",
              "1     [0.0, 1.0, 0.0, 1.0, 1.0, 1.0]  \n",
              "2     [0.0, 1.0, 0.0, 1.0, 1.0, 1.0]  \n",
              "3     [1.0, 0.0, 0.0, 0.0, 0.0, 0.0]  \n",
              "4     [1.0, 0.0, 0.0, 0.0, 0.0, 0.0]  \n",
              "...                              ...  \n",
              "9995  [1.0, 0.0, 0.0, 0.0, 0.0, 0.0]  \n",
              "9996  [1.0, 0.0, 0.0, 0.0, 0.0, 0.0]  \n",
              "9997  [0.0, 1.0, 0.0, 1.0, 1.0, 1.0]  \n",
              "9998  [0.0, 1.0, 0.0, 1.0, 1.0, 1.0]  \n",
              "9999  [0.0, 1.0, 0.0, 1.0, 1.0, 1.0]  \n",
              "\n",
              "[10000 rows x 3 columns]"
            ]
          },
          "metadata": {},
          "execution_count": 114
        }
      ]
    },
    {
      "cell_type": "code",
      "source": [
        "# result_df.to_csv(\"/content/multilabelcsv.csv\")"
      ],
      "metadata": {
        "id": "elPx_MPf6nBJ"
      },
      "id": "elPx_MPf6nBJ",
      "execution_count": null,
      "outputs": []
    },
    {
      "cell_type": "markdown",
      "source": [
        "score is still good, because a lot of labels are the same. If we change for every animal besides frog swim to 0, we should get a lower score. RERUN for confirmation"
      ],
      "metadata": {
        "id": "QIii65iwLD56"
      },
      "id": "QIii65iwLD56"
    },
    {
      "cell_type": "code",
      "source": [
        "failed_classes = []\n",
        "for i in range(len(result_df)):\n",
        "  if all(result_df['true labels'][i] == result_df['predicted'][i]):\n",
        "    continue\n",
        "  else:\n",
        "    failed_classes.append(result_df['true_class'][i])"
      ],
      "metadata": {
        "id": "aQCQiIvJfAlh"
      },
      "id": "aQCQiIvJfAlh",
      "execution_count": null,
      "outputs": []
    },
    {
      "cell_type": "code",
      "source": [
        "len(failed_classes)"
      ],
      "metadata": {
        "id": "y3WjO7V_9oyA",
        "colab": {
          "base_uri": "https://localhost:8080/"
        },
        "outputId": "96bcf6bc-6a7f-4182-8d69-e3adbfdd7460"
      },
      "id": "y3WjO7V_9oyA",
      "execution_count": null,
      "outputs": [
        {
          "output_type": "execute_result",
          "data": {
            "text/plain": [
              "1368"
            ]
          },
          "metadata": {},
          "execution_count": 116
        }
      ]
    },
    {
      "cell_type": "code",
      "source": [
        "Counter(failed_classes)"
      ],
      "metadata": {
        "id": "eSHUfIlyfp5p",
        "colab": {
          "base_uri": "https://localhost:8080/"
        },
        "outputId": "3fc0b2bc-face-4083-f7da-3242744ca69a"
      },
      "id": "eSHUfIlyfp5p",
      "execution_count": null,
      "outputs": [
        {
          "output_type": "execute_result",
          "data": {
            "text/plain": [
              "Counter({'airplane': 196,\n",
              "         'automobile': 79,\n",
              "         'bird': 354,\n",
              "         'cat': 127,\n",
              "         'deer': 82,\n",
              "         'dog': 86,\n",
              "         'frog': 80,\n",
              "         'horse': 54,\n",
              "         'ship': 186,\n",
              "         'truck': 124})"
            ]
          },
          "metadata": {},
          "execution_count": 117
        }
      ]
    },
    {
      "cell_type": "code",
      "source": [
        "multilabel_confusion_matrix(y_test, result)"
      ],
      "metadata": {
        "id": "x2hHa_0vgZlU",
        "colab": {
          "base_uri": "https://localhost:8080/"
        },
        "outputId": "da264bdd-0596-43bd-e1e1-1ba45cd96933"
      },
      "id": "x2hHa_0vgZlU",
      "execution_count": null,
      "outputs": [
        {
          "output_type": "execute_result",
          "data": {
            "text/plain": [
              "array([[[5823,  177],\n",
              "        [ 266, 3734]],\n",
              "\n",
              "       [[3734,  266],\n",
              "        [ 178, 5822]],\n",
              "\n",
              "       [[7539,  461],\n",
              "        [ 433, 1567]],\n",
              "\n",
              "       [[3735,  265],\n",
              "        [ 177, 5823]],\n",
              "\n",
              "       [[3467,  533],\n",
              "        [ 491, 5509]],\n",
              "\n",
              "       [[3731,  269],\n",
              "        [ 177, 5823]]])"
            ]
          },
          "metadata": {},
          "execution_count": 119
        }
      ]
    },
    {
      "cell_type": "code",
      "source": [
        "labels = ['vessel', 'animal', 'fly', 'walk', 'swim', 'jump']"
      ],
      "metadata": {
        "id": "zdEErKW3iP_o"
      },
      "id": "zdEErKW3iP_o",
      "execution_count": null,
      "outputs": []
    },
    {
      "cell_type": "code",
      "source": [
        "f, axes = plt.subplots(2, 3, figsize=(20, 15))\n",
        "axes = axes.ravel()\n",
        "for i in range(6):\n",
        "    disp = ConfusionMatrixDisplay(confusion_matrix(y_test[:, i],\n",
        "                                                   result[:, i]),\n",
        "                                  display_labels=['True', 'False'])\n",
        "    disp.plot(ax=axes[i], values_format='.4g')\n",
        "    disp.ax_.set_title(f'label {labels[i]}')\n",
        "    # disp.ax_.set_ylabel('False True')\n",
        "    # disp.ax_.set_xlabel('True False')\n",
        "    # if i<10:\n",
        "    disp.ax_.set_xlabel('')\n",
        "    # if i%1!=0:\n",
        "    disp.ax_.set_ylabel('')\n",
        "    disp.im_.colorbar.remove()\n",
        "\n",
        "plt.subplots_adjust(wspace=0.13, hspace=0.1)\n",
        "f.colorbar(disp.im_, ax=axes)\n",
        "plt.savefig(\"/content/confusionmatrix.jpg\")\n",
        "plt.show()\n"
      ],
      "metadata": {
        "id": "0HF9uqS6jldG",
        "colab": {
          "base_uri": "https://localhost:8080/",
          "height": 846
        },
        "outputId": "0e91a891-b010-406a-82fa-d0278dfe3351"
      },
      "id": "0HF9uqS6jldG",
      "execution_count": null,
      "outputs": [
        {
          "output_type": "display_data",
          "data": {
            "image/png": "[encoded data removed]",
            "text/plain": [
              "<Figure size 1440x1080 with 7 Axes>"
            ]
          },
          "metadata": {
            "needs_background": "light"
          }
        }
      ]
    },
    {
      "cell_type": "markdown",
      "source": [
        "#cnn, multiclass classification"
      ],
      "metadata": {
        "id": "g7US3hSdacu9"
      },
      "id": "g7US3hSdacu9"
    },
    {
      "cell_type": "code",
      "source": [
        "label_mapper2 = {'airplane':0, 'automobile':1, 'bird':2, 'cat':3, 'deer':4, 'dog':5, 'frog':6, 'horse':7, 'ship':8, 'truck':9}"
      ],
      "metadata": {
        "id": "RXHgNqYxBi_s"
      },
      "id": "RXHgNqYxBi_s",
      "execution_count": null,
      "outputs": []
    },
    {
      "cell_type": "code",
      "source": [
        "from keras.preprocessing import image\n",
        "def train_test_builder(df, path, SIZE = 32, label_mapper = label_mapper2):\n",
        "  X= []\n",
        "  for i in tqdm(range(df.shape[0])):\n",
        "    img = image.load_img(path + '/' + df['id'][i], target_size=(SIZE, SIZE))\n",
        "    # img = path + '/' +  train_df['id'][i]\n",
        "    img = image.img_to_array(img)\n",
        "    X.append(img)\n",
        "  \n",
        "  #normalize\n",
        "  X = tf.keras.utils.normalize(X, axis = 1)\n",
        "\n",
        "  #make array\n",
        "  X = np.array(X)\n",
        "  \n",
        "  #get labels\n",
        "  y = np.array(df['class'].map(label_mapper2))\n",
        "  y = tf.keras.utils.to_categorical(y)\n",
        "  return X, y"
      ],
      "metadata": {
        "id": "bge1yIqHAKUo"
      },
      "id": "bge1yIqHAKUo",
      "execution_count": null,
      "outputs": []
    },
    {
      "cell_type": "code",
      "source": [
        "X_train, y_train = train_test_builder(train_df, path_save_images_train)\n",
        "X_test, y_test = train_test_builder(test_df, path_save_images_test)"
      ],
      "metadata": {
        "colab": {
          "base_uri": "https://localhost:8080/"
        },
        "outputId": "9d829f74-a85d-4478-e695-22197ee5ea6d",
        "id": "0V_KWbzgAJmv"
      },
      "execution_count": null,
      "outputs": [
        {
          "output_type": "stream",
          "name": "stderr",
          "text": [
            "100%|██████████| 50000/50000 [00:18<00:00, 2724.46it/s]\n",
            "100%|██████████| 10000/10000 [00:02<00:00, 4339.13it/s]\n"
          ]
        }
      ],
      "id": "0V_KWbzgAJmv"
    },
    {
      "cell_type": "code",
      "source": [
        "print(X_train.shape, y_train.shape)\n",
        "print(X_test.shape, y_test.shape)"
      ],
      "metadata": {
        "colab": {
          "base_uri": "https://localhost:8080/"
        },
        "outputId": "46da5228-ab65-4e0b-911e-efebcc5640d6",
        "id": "GgvHpeaZAJm2"
      },
      "execution_count": null,
      "outputs": [
        {
          "output_type": "stream",
          "name": "stdout",
          "text": [
            "(50000, 32, 32, 3) (50000, 10)\n",
            "(10000, 32, 32, 3) (10000, 10)\n"
          ]
        }
      ],
      "id": "GgvHpeaZAJm2"
    },
    {
      "cell_type": "code",
      "source": [
        "epochs = 50\n",
        "activation = 'relu'\n",
        "output_size = 10\n",
        "model = Sequential()\n",
        "model.add(Conv2D(32, kernel_size = (3, 3), padding = 'same', activation = activation, \n",
        "                 input_shape = (32, 32, 3)))\n",
        "model.add(BatchNormalization())\n",
        "\n",
        "model.add(Conv2D(32, kernel_size = (3, 3), padding = 'same', activation = activation))\n",
        "model.add(BatchNormalization())\n",
        "model.add(MaxPooling2D(2,2))\n",
        "\n",
        "model.add(Conv2D(64, kernel_size = (3, 3), padding = 'same', activation = activation))\n",
        "model.add(BatchNormalization())\n",
        "\n",
        "model.add(Conv2D(64, kernel_size = (3, 3), padding = 'same', activation = activation))\n",
        "model.add(BatchNormalization())\n",
        "model.add(MaxPooling2D(2,2))\n",
        "\n",
        "model.add(Conv2D(128, kernel_size = (3, 3), padding = 'same', activation = activation))\n",
        "model.add(BatchNormalization())\n",
        "\n",
        "model.add(Conv2D(128, kernel_size = (3, 3), padding = 'same', activation = activation))\n",
        "model.add(BatchNormalization())\n",
        "model.add(MaxPooling2D(2,2))\n",
        "\n",
        "model.add(Conv2D(256, kernel_size = (3, 3), padding = 'same', activation = activation))\n",
        "model.add(BatchNormalization())\n",
        "\n",
        "\n",
        "model.add(Conv2D(256, kernel_size = (3, 3), padding = 'same', activation = activation))\n",
        "model.add(BatchNormalization())\n",
        "model.add(MaxPooling2D(2,2))\n",
        "\n",
        "\n",
        "model.add(Flatten())\n",
        "model.add(Dense(512, activation = activation))\n",
        "model.add(BatchNormalization())\n",
        "\n",
        "model.add(Dense(output_size, activation = 'softmax'))\n",
        "\n",
        "model.compile(optimizer='adam', loss = 'categorical_crossentropy', metrics = ['accuracy'])\n",
        "print(model.summary())"
      ],
      "metadata": {
        "colab": {
          "base_uri": "https://localhost:8080/"
        },
        "id": "HQjq-r4dBe0F",
        "outputId": "d6efdf59-d15b-4ded-c173-c437d64bcaed"
      },
      "id": "HQjq-r4dBe0F",
      "execution_count": null,
      "outputs": [
        {
          "output_type": "stream",
          "name": "stdout",
          "text": [
            "Model: \"sequential_15\"\n",
            "_________________________________________________________________\n",
            " Layer (type)                Output Shape              Param #   \n",
            "=================================================================\n",
            " conv2d_78 (Conv2D)          (None, 32, 32, 32)        896       \n",
            "                                                                 \n",
            " batch_normalization_43 (Bat  (None, 32, 32, 32)       128       \n",
            " chNormalization)                                                \n",
            "                                                                 \n",
            " conv2d_79 (Conv2D)          (None, 32, 32, 32)        9248      \n",
            "                                                                 \n",
            " batch_normalization_44 (Bat  (None, 32, 32, 32)       128       \n",
            " chNormalization)                                                \n",
            "                                                                 \n",
            " max_pooling2d_49 (MaxPoolin  (None, 16, 16, 32)       0         \n",
            " g2D)                                                            \n",
            "                                                                 \n",
            " conv2d_80 (Conv2D)          (None, 16, 16, 64)        18496     \n",
            "                                                                 \n",
            " batch_normalization_45 (Bat  (None, 16, 16, 64)       256       \n",
            " chNormalization)                                                \n",
            "                                                                 \n",
            " conv2d_81 (Conv2D)          (None, 16, 16, 64)        36928     \n",
            "                                                                 \n",
            " batch_normalization_46 (Bat  (None, 16, 16, 64)       256       \n",
            " chNormalization)                                                \n",
            "                                                                 \n",
            " max_pooling2d_50 (MaxPoolin  (None, 8, 8, 64)         0         \n",
            " g2D)                                                            \n",
            "                                                                 \n",
            " conv2d_82 (Conv2D)          (None, 8, 8, 128)         73856     \n",
            "                                                                 \n",
            " batch_normalization_47 (Bat  (None, 8, 8, 128)        512       \n",
            " chNormalization)                                                \n",
            "                                                                 \n",
            " conv2d_83 (Conv2D)          (None, 8, 8, 128)         147584    \n",
            "                                                                 \n",
            " batch_normalization_48 (Bat  (None, 8, 8, 128)        512       \n",
            " chNormalization)                                                \n",
            "                                                                 \n",
            " max_pooling2d_51 (MaxPoolin  (None, 4, 4, 128)        0         \n",
            " g2D)                                                            \n",
            "                                                                 \n",
            " conv2d_84 (Conv2D)          (None, 4, 4, 256)         295168    \n",
            "                                                                 \n",
            " batch_normalization_49 (Bat  (None, 4, 4, 256)        1024      \n",
            " chNormalization)                                                \n",
            "                                                                 \n",
            " conv2d_85 (Conv2D)          (None, 4, 4, 256)         590080    \n",
            "                                                                 \n",
            " batch_normalization_50 (Bat  (None, 4, 4, 256)        1024      \n",
            " chNormalization)                                                \n",
            "                                                                 \n",
            " max_pooling2d_52 (MaxPoolin  (None, 2, 2, 256)        0         \n",
            " g2D)                                                            \n",
            "                                                                 \n",
            " flatten_14 (Flatten)        (None, 1024)              0         \n",
            "                                                                 \n",
            " dense_28 (Dense)            (None, 512)               524800    \n",
            "                                                                 \n",
            " batch_normalization_51 (Bat  (None, 512)              2048      \n",
            " chNormalization)                                                \n",
            "                                                                 \n",
            " dense_29 (Dense)            (None, 10)                5130      \n",
            "                                                                 \n",
            "=================================================================\n",
            "Total params: 1,708,074\n",
            "Trainable params: 1,705,130\n",
            "Non-trainable params: 2,944\n",
            "_________________________________________________________________\n",
            "None\n"
          ]
        }
      ]
    },
    {
      "cell_type": "code",
      "source": [
        "history = model.fit(X_train, y_train, epochs = epochs)"
      ],
      "metadata": {
        "colab": {
          "base_uri": "https://localhost:8080/"
        },
        "id": "TGt1Fd9RBwKi",
        "outputId": "b474e4a4-e5d4-4201-b1db-3f84d240f7f1"
      },
      "id": "TGt1Fd9RBwKi",
      "execution_count": null,
      "outputs": [
        {
          "output_type": "stream",
          "name": "stdout",
          "text": [
            "Epoch 1/50\n",
            "1563/1563 [==============================] - 13s 8ms/step - loss: 1.6110 - accuracy: 0.4309\n",
            "Epoch 2/50\n",
            "1563/1563 [==============================] - 13s 8ms/step - loss: 1.2482 - accuracy: 0.5594\n",
            "Epoch 3/50\n",
            "1563/1563 [==============================] - 12s 8ms/step - loss: 1.1174 - accuracy: 0.6074\n",
            "Epoch 4/50\n",
            "1563/1563 [==============================] - 12s 8ms/step - loss: 1.0127 - accuracy: 0.6408\n",
            "Epoch 5/50\n",
            "1563/1563 [==============================] - 12s 8ms/step - loss: 0.9139 - accuracy: 0.6764\n",
            "Epoch 6/50\n",
            "1563/1563 [==============================] - 12s 8ms/step - loss: 0.8325 - accuracy: 0.7038\n",
            "Epoch 7/50\n",
            "1563/1563 [==============================] - 12s 8ms/step - loss: 0.7485 - accuracy: 0.7338\n",
            "Epoch 8/50\n",
            "1563/1563 [==============================] - 12s 8ms/step - loss: 0.6867 - accuracy: 0.7559\n",
            "Epoch 9/50\n",
            "1563/1563 [==============================] - 12s 8ms/step - loss: 0.6335 - accuracy: 0.7745\n",
            "Epoch 10/50\n",
            "1563/1563 [==============================] - 12s 8ms/step - loss: 0.5997 - accuracy: 0.7852\n",
            "Epoch 11/50\n",
            "1563/1563 [==============================] - 12s 8ms/step - loss: 0.5845 - accuracy: 0.7894\n",
            "Epoch 12/50\n",
            "1563/1563 [==============================] - 12s 8ms/step - loss: 0.5563 - accuracy: 0.8014\n",
            "Epoch 13/50\n",
            "1563/1563 [==============================] - 12s 8ms/step - loss: 0.5366 - accuracy: 0.8091\n",
            "Epoch 14/50\n",
            "1563/1563 [==============================] - 12s 8ms/step - loss: 0.5083 - accuracy: 0.8213\n",
            "Epoch 15/50\n",
            "1563/1563 [==============================] - 12s 8ms/step - loss: 0.4723 - accuracy: 0.8347\n",
            "Epoch 16/50\n",
            "1563/1563 [==============================] - 12s 8ms/step - loss: 0.4332 - accuracy: 0.8497\n",
            "Epoch 17/50\n",
            "1563/1563 [==============================] - 12s 8ms/step - loss: 0.3772 - accuracy: 0.8717\n",
            "Epoch 18/50\n",
            "1563/1563 [==============================] - 12s 8ms/step - loss: 0.3047 - accuracy: 0.8958\n",
            "Epoch 19/50\n",
            "1563/1563 [==============================] - 12s 8ms/step - loss: 0.2345 - accuracy: 0.9209\n",
            "Epoch 20/50\n",
            "1563/1563 [==============================] - 12s 8ms/step - loss: 0.1834 - accuracy: 0.9375\n",
            "Epoch 21/50\n",
            "1563/1563 [==============================] - 12s 8ms/step - loss: 0.1563 - accuracy: 0.9471\n",
            "Epoch 22/50\n",
            "1563/1563 [==============================] - 12s 8ms/step - loss: 0.1348 - accuracy: 0.9543\n",
            "Epoch 23/50\n",
            "1563/1563 [==============================] - 12s 8ms/step - loss: 0.1228 - accuracy: 0.9592\n",
            "Epoch 24/50\n",
            "1563/1563 [==============================] - 12s 8ms/step - loss: 0.1204 - accuracy: 0.9593\n",
            "Epoch 25/50\n",
            "1563/1563 [==============================] - 12s 8ms/step - loss: 0.1112 - accuracy: 0.9622\n",
            "Epoch 26/50\n",
            "1563/1563 [==============================] - 12s 8ms/step - loss: 0.0993 - accuracy: 0.9666\n",
            "Epoch 27/50\n",
            "1563/1563 [==============================] - 12s 8ms/step - loss: 0.1024 - accuracy: 0.9644\n",
            "Epoch 28/50\n",
            "1563/1563 [==============================] - 12s 8ms/step - loss: 0.0904 - accuracy: 0.9690\n",
            "Epoch 29/50\n",
            "1563/1563 [==============================] - 12s 8ms/step - loss: 0.0847 - accuracy: 0.9714\n",
            "Epoch 30/50\n",
            "1563/1563 [==============================] - 12s 8ms/step - loss: 0.0852 - accuracy: 0.9719\n",
            "Epoch 31/50\n",
            "1563/1563 [==============================] - 12s 8ms/step - loss: 0.0753 - accuracy: 0.9748\n",
            "Epoch 32/50\n",
            "1563/1563 [==============================] - 12s 8ms/step - loss: 0.0816 - accuracy: 0.9723\n",
            "Epoch 33/50\n",
            "1563/1563 [==============================] - 12s 8ms/step - loss: 0.0731 - accuracy: 0.9753\n",
            "Epoch 34/50\n",
            "1563/1563 [==============================] - 12s 8ms/step - loss: 0.0683 - accuracy: 0.9769\n",
            "Epoch 35/50\n",
            "1563/1563 [==============================] - 12s 8ms/step - loss: 0.0691 - accuracy: 0.9768\n",
            "Epoch 36/50\n",
            "1563/1563 [==============================] - 12s 8ms/step - loss: 0.0663 - accuracy: 0.9775\n",
            "Epoch 37/50\n",
            "1563/1563 [==============================] - 12s 8ms/step - loss: 0.0624 - accuracy: 0.9788\n",
            "Epoch 38/50\n",
            "1563/1563 [==============================] - 12s 8ms/step - loss: 0.0628 - accuracy: 0.9786\n",
            "Epoch 39/50\n",
            "1563/1563 [==============================] - 12s 8ms/step - loss: 0.0560 - accuracy: 0.9805\n",
            "Epoch 40/50\n",
            "1563/1563 [==============================] - 12s 8ms/step - loss: 0.0612 - accuracy: 0.9787\n",
            "Epoch 41/50\n",
            "1563/1563 [==============================] - 12s 8ms/step - loss: 0.0530 - accuracy: 0.9822\n",
            "Epoch 42/50\n",
            "1563/1563 [==============================] - 12s 8ms/step - loss: 0.0535 - accuracy: 0.9817\n",
            "Epoch 43/50\n",
            "1563/1563 [==============================] - 12s 8ms/step - loss: 0.0505 - accuracy: 0.9827\n",
            "Epoch 44/50\n",
            "1563/1563 [==============================] - 12s 8ms/step - loss: 0.0550 - accuracy: 0.9806\n",
            "Epoch 45/50\n",
            "1563/1563 [==============================] - 12s 8ms/step - loss: 0.0523 - accuracy: 0.9819\n",
            "Epoch 46/50\n",
            "1563/1563 [==============================] - 12s 8ms/step - loss: 0.0487 - accuracy: 0.9837\n",
            "Epoch 47/50\n",
            "1563/1563 [==============================] - 12s 8ms/step - loss: 0.0463 - accuracy: 0.9844\n",
            "Epoch 48/50\n",
            "1563/1563 [==============================] - 12s 8ms/step - loss: 0.0510 - accuracy: 0.9828\n",
            "Epoch 49/50\n",
            "1563/1563 [==============================] - 12s 8ms/step - loss: 0.0410 - accuracy: 0.9866\n",
            "Epoch 50/50\n",
            "1563/1563 [==============================] - 12s 8ms/step - loss: 0.0442 - accuracy: 0.9849\n"
          ]
        }
      ]
    },
    {
      "cell_type": "code",
      "source": [
        "f = plt.figure(figsize=(15,5))\n",
        "f.add_subplot(1, 2, 1)\n",
        "loss = history.history['loss']\n",
        "epochs = range(1, len(loss) +1)\n",
        "plt.plot(epochs, loss, 'r', label ='Training loss')\n",
        "plt.title('Training loss')\n",
        "plt.xlabel('epochs')\n",
        "plt.ylabel('Loss')\n",
        "plt.legend()\n",
        "f.add_subplot(1,2, 2)\n",
        "accuracy = history.history['accuracy']\n",
        "epochs = range(1, len(loss) +1)\n",
        "plt.plot(epochs, accuracy, 'g', label ='Training accuracy')\n",
        "plt.title('Training accuracy')\n",
        "plt.xlabel('epochs')\n",
        "plt.ylabel('accuracy')\n",
        "plt.legend()\n",
        "plt.savefig(\"/content/trainingmcc.jpg\")\n",
        "plt.show(block=True)"
      ],
      "metadata": {
        "colab": {
          "base_uri": "https://localhost:8080/",
          "height": 350
        },
        "id": "3w5dKbT2DLQN",
        "outputId": "8f1a68f3-1b5a-4247-c926-8ca0c5ab9af2"
      },
      "id": "3w5dKbT2DLQN",
      "execution_count": null,
      "outputs": [
        {
          "output_type": "display_data",
          "data": {
            "image/png": "[encoded data removed]",
            "text/plain": [
              "<Figure size 1080x360 with 2 Axes>"
            ]
          },
          "metadata": {
            "needs_background": "light"
          }
        }
      ]
    },
    {
      "cell_type": "code",
      "source": [
        "preds = model.predict(X_test)  \n",
        "y_pred = []\n",
        "for i in range(len(preds)):\n",
        "  y_pred.append(preds[i].argmax())\n",
        "y_pred = np.array(y_pred)"
      ],
      "metadata": {
        "id": "DyS0q3_bDOTU"
      },
      "execution_count": null,
      "outputs": [],
      "id": "DyS0q3_bDOTU"
    },
    {
      "cell_type": "code",
      "source": [
        "y_test_true = []\n",
        "for i in range(len(y_test)):\n",
        "  y_test_true.append(y_test[i].argmax())\n",
        "y_test_true = np.array(y_test_true)"
      ],
      "metadata": {
        "id": "OqETsI5oDOTV"
      },
      "execution_count": null,
      "outputs": [],
      "id": "OqETsI5oDOTV"
    },
    {
      "cell_type": "code",
      "source": [
        "print(accuracy_score(y_test_true, y_pred))"
      ],
      "metadata": {
        "colab": {
          "base_uri": "https://localhost:8080/"
        },
        "outputId": "224cf549-9305-4f28-b267-27dc2fbfdc1c",
        "id": "BM1WVLHPDOTV"
      },
      "execution_count": null,
      "outputs": [
        {
          "output_type": "stream",
          "name": "stdout",
          "text": [
            "0.7513\n"
          ]
        }
      ],
      "id": "BM1WVLHPDOTV"
    },
    {
      "cell_type": "code",
      "source": [
        "print(classification_report(y_test_true, y_pred, target_names = ['airplane', 'automobile', 'bird', 'cat', 'deer', 'dog', 'frog', 'horse', 'ship', 'truck']))"
      ],
      "metadata": {
        "colab": {
          "base_uri": "https://localhost:8080/"
        },
        "outputId": "3914b22c-8d9e-46a9-ce10-2c9ad9eb9683",
        "id": "bV1CUiUzDOTV"
      },
      "execution_count": null,
      "outputs": [
        {
          "output_type": "stream",
          "name": "stdout",
          "text": [
            "              precision    recall  f1-score   support\n",
            "\n",
            "    airplane       0.84      0.71      0.77      1000\n",
            "  automobile       0.89      0.83      0.86      1000\n",
            "        bird       0.62      0.69      0.66      1000\n",
            "         cat       0.63      0.51      0.56      1000\n",
            "        deer       0.68      0.73      0.71      1000\n",
            "         dog       0.72      0.65      0.68      1000\n",
            "        frog       0.72      0.85      0.78      1000\n",
            "       horse       0.79      0.79      0.79      1000\n",
            "        ship       0.84      0.87      0.85      1000\n",
            "       truck       0.81      0.87      0.84      1000\n",
            "\n",
            "    accuracy                           0.75     10000\n",
            "   macro avg       0.75      0.75      0.75     10000\n",
            "weighted avg       0.75      0.75      0.75     10000\n",
            "\n"
          ]
        }
      ],
      "id": "bV1CUiUzDOTV"
    },
    {
      "cell_type": "code",
      "source": [
        "def get_pred(prediction, test = test_df):\n",
        "  df = pd.DataFrame()\n",
        "  for i in range(len(prediction)):\n",
        "    if prediction[i] == 0:\n",
        "        df = df.append({'id':test['id'][i], 'true_class':test['class'][i], 'predicted_class':'airplane', \n",
        "                        'vessel':1, 'animal':0, 'fly':1, 'walk':0, 'swim':0, 'jump':0}, ignore_index = True)\n",
        "    elif prediction[i] == 1:\n",
        "          df = df.append({'id':test['id'][i], 'true_class':test['class'][i], 'predicted_class':'automobile', \n",
        "                          'vessel':1, 'animal':0, 'fly':0, 'walk':0, 'swim':0, 'jump':0}, ignore_index = True)\n",
        "    elif prediction[i] == 2:\n",
        "          df = df.append({'id':test['id'][i], 'true_class':test['class'][i], 'predicted_class':'bird', \n",
        "                          'vessel':0, 'animal':1, 'fly':1, 'walk':1, 'swim':0, 'jump':1}, ignore_index = True)\n",
        "    elif prediction[i] == 3:\n",
        "          df = df.append({'id':test['id'][i], 'true_class':test['class'][i], 'predicted_class':'cat', \n",
        "                          'vessel':0, 'animal':1, 'fly':0, 'walk':1, 'swim':1, 'jump':1}, ignore_index = True)\n",
        "    elif prediction[i] == 4:\n",
        "          df = df.append({'id':test['id'][i], 'true_class':test['class'][i], 'predicted_class':'deer', \n",
        "                          'vessel':0, 'animal':1, 'fly':0, 'walk':1, 'swim':1, 'jump':1}, ignore_index = True)\n",
        "    elif prediction[i] == 5:\n",
        "          df = df.append({'id':test['id'][i], 'true_class':test['class'][i], 'predicted_class':'dog', \n",
        "                          'vessel':0, 'animal':1, 'fly':0, 'walk':1, 'swim':1, 'jump':1}, ignore_index = True)\n",
        "    elif prediction[i] == 6:\n",
        "          df = df.append({'id':test['id'][i], 'true_class':test['class'][i], 'predicted_class':'frog', \n",
        "                          'vessel':0, 'animal':1, 'fly':0, 'walk':1, 'swim':1, 'jump':1}, ignore_index = True)\n",
        "    elif prediction[i] == 7:\n",
        "          df = df.append({'id':test['id'][i], 'true_class':test['class'][i], 'predicted_class':'horse',  \n",
        "                          'vessel':0, 'animal':1, 'fly':0, 'walk':1, 'swim':1, 'jump':1}, ignore_index = True)\n",
        "    elif prediction[i] == 8:\n",
        "          df = df.append({'id':test['id'][i], 'true_class':test['class'][i], 'predicted_class':'ship', \n",
        "                          'vessel':1, 'animal':0, 'fly':0, 'walk':0, 'swim':1, 'jump':0}, ignore_index = True)\n",
        "    else:\n",
        "          df = df.append({'id':test['id'][i], 'true_class':test['class'][i], 'predicted_class':'truck', \n",
        "                          'vessel':1, 'animal':0, 'fly':0, 'walk':0, 'swim':0, 'jump':0}, ignore_index = True)\n",
        "  return df\n"
      ],
      "metadata": {
        "id": "k0kVwaNr4Yth"
      },
      "id": "k0kVwaNr4Yth",
      "execution_count": null,
      "outputs": []
    },
    {
      "cell_type": "code",
      "source": [
        "result_df = get_pred(y_pred)"
      ],
      "metadata": {
        "id": "exN4WzuV4lzl"
      },
      "id": "exN4WzuV4lzl",
      "execution_count": null,
      "outputs": []
    },
    {
      "cell_type": "code",
      "source": [
        "result_df.head()"
      ],
      "metadata": {
        "colab": {
          "base_uri": "https://localhost:8080/",
          "height": 206
        },
        "id": "-q9A17zo8mmS",
        "outputId": "9ea45f13-bf1d-4a9a-daba-aea67fd0920f"
      },
      "id": "-q9A17zo8mmS",
      "execution_count": null,
      "outputs": [
        {
          "output_type": "execute_result",
          "data": {
            "text/html": [
              "\n",
              "  <div id=\"df-62d36623-655d-4bbf-8d41-7d9dfbc8e8ee\">\n",
              "    <div class=\"colab-df-container\">\n",
              "      <div>\n",
              "<style scoped>\n",
              "    .dataframe tbody tr th:only-of-type {\n",
              "        vertical-align: middle;\n",
              "    }\n",
              "\n",
              "    .dataframe tbody tr th {\n",
              "        vertical-align: top;\n",
              "    }\n",
              "\n",
              "    .dataframe thead th {\n",
              "        text-align: right;\n",
              "    }\n",
              "</style>\n",
              "<table border=\"1\" class=\"dataframe\">\n",
              "  <thead>\n",
              "    <tr style=\"text-align: right;\">\n",
              "      <th></th>\n",
              "      <th>id</th>\n",
              "      <th>true_class</th>\n",
              "      <th>predicted_class</th>\n",
              "      <th>vessel</th>\n",
              "      <th>animal</th>\n",
              "      <th>fly</th>\n",
              "      <th>walk</th>\n",
              "      <th>swim</th>\n",
              "      <th>jump</th>\n",
              "    </tr>\n",
              "  </thead>\n",
              "  <tbody>\n",
              "    <tr>\n",
              "      <th>0</th>\n",
              "      <td>automobile_9245.jpg</td>\n",
              "      <td>automobile</td>\n",
              "      <td>automobile</td>\n",
              "      <td>1.0</td>\n",
              "      <td>0.0</td>\n",
              "      <td>0.0</td>\n",
              "      <td>0.0</td>\n",
              "      <td>0.0</td>\n",
              "      <td>0.0</td>\n",
              "    </tr>\n",
              "    <tr>\n",
              "      <th>1</th>\n",
              "      <td>dog_679.jpg</td>\n",
              "      <td>dog</td>\n",
              "      <td>dog</td>\n",
              "      <td>0.0</td>\n",
              "      <td>1.0</td>\n",
              "      <td>0.0</td>\n",
              "      <td>1.0</td>\n",
              "      <td>1.0</td>\n",
              "      <td>1.0</td>\n",
              "    </tr>\n",
              "    <tr>\n",
              "      <th>2</th>\n",
              "      <td>dog_7985.jpg</td>\n",
              "      <td>dog</td>\n",
              "      <td>dog</td>\n",
              "      <td>0.0</td>\n",
              "      <td>1.0</td>\n",
              "      <td>0.0</td>\n",
              "      <td>1.0</td>\n",
              "      <td>1.0</td>\n",
              "      <td>1.0</td>\n",
              "    </tr>\n",
              "    <tr>\n",
              "      <th>3</th>\n",
              "      <td>automobile_439.jpg</td>\n",
              "      <td>automobile</td>\n",
              "      <td>truck</td>\n",
              "      <td>1.0</td>\n",
              "      <td>0.0</td>\n",
              "      <td>0.0</td>\n",
              "      <td>0.0</td>\n",
              "      <td>0.0</td>\n",
              "      <td>0.0</td>\n",
              "    </tr>\n",
              "    <tr>\n",
              "      <th>4</th>\n",
              "      <td>automobile_7565.jpg</td>\n",
              "      <td>automobile</td>\n",
              "      <td>automobile</td>\n",
              "      <td>1.0</td>\n",
              "      <td>0.0</td>\n",
              "      <td>0.0</td>\n",
              "      <td>0.0</td>\n",
              "      <td>0.0</td>\n",
              "      <td>0.0</td>\n",
              "    </tr>\n",
              "  </tbody>\n",
              "</table>\n",
              "</div>\n",
              "      <button class=\"colab-df-convert\" onclick=\"convertToInteractive('df-62d36623-655d-4bbf-8d41-7d9dfbc8e8ee')\"\n",
              "              title=\"Convert this dataframe to an interactive table.\"\n",
              "              style=\"display:none;\">\n",
              "        \n",
              "  <svg xmlns=\"http://www.w3.org/2000/svg\" height=\"24px\"viewBox=\"0 0 24 24\"\n",
              "       width=\"24px\">\n",
              "    <path d=\"M0 0h24v24H0V0z\" fill=\"none\"/>\n",
              "    <path d=\"M18.56 5.44l.94 2.06.94-2.06 2.06-.94-2.06-.94-.94-2.06-.94 2.06-2.06.94zm-11 1L8.5 8.5l.94-2.06 2.06-.94-2.06-.94L8.5 2.5l-.94 2.06-2.06.94zm10 10l.94 2.06.94-2.06 2.06-.94-2.06-.94-.94-2.06-.94 2.06-2.06.94z\"/><path d=\"M17.41 7.96l-1.37-1.37c-.4-.4-.92-.59-1.43-.59-.52 0-1.04.2-1.43.59L10.3 9.45l-7.72 7.72c-.78.78-.78 2.05 0 2.83L4 21.41c.39.39.9.59 1.41.59.51 0 1.02-.2 1.41-.59l7.78-7.78 2.81-2.81c.8-.78.8-2.07 0-2.86zM5.41 20L4 18.59l7.72-7.72 1.47 1.35L5.41 20z\"/>\n",
              "  </svg>\n",
              "      </button>\n",
              "      \n",
              "  <style>\n",
              "    .colab-df-container {\n",
              "      display:flex;\n",
              "      flex-wrap:wrap;\n",
              "      gap: 12px;\n",
              "    }\n",
              "\n",
              "    .colab-df-convert {\n",
              "      background-color: #E8F0FE;\n",
              "      border: none;\n",
              "      border-radius: 50%;\n",
              "      cursor: pointer;\n",
              "      display: none;\n",
              "      fill: #1967D2;\n",
              "      height: 32px;\n",
              "      padding: 0 0 0 0;\n",
              "      width: 32px;\n",
              "    }\n",
              "\n",
              "    .colab-df-convert:hover {\n",
              "      background-color: #E2EBFA;\n",
              "      box-shadow: 0px 1px 2px rgba(60, 64, 67, 0.3), 0px 1px 3px 1px rgba(60, 64, 67, 0.15);\n",
              "      fill: #174EA6;\n",
              "    }\n",
              "\n",
              "    [theme=dark] .colab-df-convert {\n",
              "      background-color: #3B4455;\n",
              "      fill: #D2E3FC;\n",
              "    }\n",
              "\n",
              "    [theme=dark] .colab-df-convert:hover {\n",
              "      background-color: #434B5C;\n",
              "      box-shadow: 0px 1px 3px 1px rgba(0, 0, 0, 0.15);\n",
              "      filter: drop-shadow(0px 1px 2px rgba(0, 0, 0, 0.3));\n",
              "      fill: #FFFFFF;\n",
              "    }\n",
              "  </style>\n",
              "\n",
              "      <script>\n",
              "        const buttonEl =\n",
              "          document.querySelector('#df-62d36623-655d-4bbf-8d41-7d9dfbc8e8ee button.colab-df-convert');\n",
              "        buttonEl.style.display =\n",
              "          google.colab.kernel.accessAllowed ? 'block' : 'none';\n",
              "\n",
              "        async function convertToInteractive(key) {\n",
              "          const element = document.querySelector('#df-62d36623-655d-4bbf-8d41-7d9dfbc8e8ee');\n",
              "          const dataTable =\n",
              "            await google.colab.kernel.invokeFunction('convertToInteractive',\n",
              "                                                     [key], {});\n",
              "          if (!dataTable) return;\n",
              "\n",
              "          const docLinkHtml = 'Like what you see? Visit the ' +\n",
              "            '<a target=\"_blank\" href=https://colab.research.google.com/notebooks/data_table.ipynb>data table notebook</a>'\n",
              "            + ' to learn more about interactive tables.';\n",
              "          element.innerHTML = '';\n",
              "          dataTable['output_type'] = 'display_data';\n",
              "          await google.colab.output.renderOutput(dataTable, element);\n",
              "          const docLink = document.createElement('div');\n",
              "          docLink.innerHTML = docLinkHtml;\n",
              "          element.appendChild(docLink);\n",
              "        }\n",
              "      </script>\n",
              "    </div>\n",
              "  </div>\n",
              "  "
            ],
            "text/plain": [
              "                    id  true_class predicted_class  vessel  animal  fly  walk  \\\n",
              "0  automobile_9245.jpg  automobile      automobile     1.0     0.0  0.0   0.0   \n",
              "1          dog_679.jpg         dog             dog     0.0     1.0  0.0   1.0   \n",
              "2         dog_7985.jpg         dog             dog     0.0     1.0  0.0   1.0   \n",
              "3   automobile_439.jpg  automobile           truck     1.0     0.0  0.0   0.0   \n",
              "4  automobile_7565.jpg  automobile      automobile     1.0     0.0  0.0   0.0   \n",
              "\n",
              "   swim  jump  \n",
              "0   0.0   0.0  \n",
              "1   1.0   1.0  \n",
              "2   1.0   1.0  \n",
              "3   0.0   0.0  \n",
              "4   0.0   0.0  "
            ]
          },
          "metadata": {},
          "execution_count": 140
        }
      ]
    },
    {
      "cell_type": "code",
      "source": [
        "sum(np.where(result_df[\"true_class\"] == result_df[\"predicted_class\"], 1, 0))"
      ],
      "metadata": {
        "colab": {
          "base_uri": "https://localhost:8080/"
        },
        "id": "rNhrWiVv8kn8",
        "outputId": "1d3cda64-a028-45af-e629-c5d5e088df53"
      },
      "id": "rNhrWiVv8kn8",
      "execution_count": null,
      "outputs": [
        {
          "output_type": "execute_result",
          "data": {
            "text/plain": [
              "7513"
            ]
          },
          "metadata": {},
          "execution_count": 141
        }
      ]
    },
    {
      "cell_type": "code",
      "source": [
        "failed_classes = []\n",
        "for i in range(len(result_df)):\n",
        "  if result_df['true_class'][i] == result_df['predicted_class'][i]:\n",
        "    continue\n",
        "  else:\n",
        "    failed_classes.append(result_df['true_class'][i])"
      ],
      "metadata": {
        "id": "oEO87XA5Ab3W"
      },
      "id": "oEO87XA5Ab3W",
      "execution_count": null,
      "outputs": []
    },
    {
      "cell_type": "code",
      "source": [
        "Counter(failed_classes)"
      ],
      "metadata": {
        "colab": {
          "base_uri": "https://localhost:8080/"
        },
        "id": "cZAqIKVUAx79",
        "outputId": "28860f47-2899-4b45-cd90-948a340547c3"
      },
      "id": "cZAqIKVUAx79",
      "execution_count": null,
      "outputs": [
        {
          "output_type": "execute_result",
          "data": {
            "text/plain": [
              "Counter({'airplane': 289,\n",
              "         'automobile': 168,\n",
              "         'bird': 305,\n",
              "         'cat': 494,\n",
              "         'deer': 266,\n",
              "         'dog': 349,\n",
              "         'frog': 147,\n",
              "         'horse': 206,\n",
              "         'ship': 134,\n",
              "         'truck': 129})"
            ]
          },
          "metadata": {},
          "execution_count": 143
        }
      ]
    },
    {
      "cell_type": "code",
      "source": [
        "len(failed_classes)"
      ],
      "metadata": {
        "colab": {
          "base_uri": "https://localhost:8080/"
        },
        "id": "iJzM5AnGwwFW",
        "outputId": "9c148f52-1fc9-406e-a9fd-ce08e8d3527c"
      },
      "id": "iJzM5AnGwwFW",
      "execution_count": null,
      "outputs": [
        {
          "output_type": "execute_result",
          "data": {
            "text/plain": [
              "2487"
            ]
          },
          "metadata": {},
          "execution_count": 144
        }
      ]
    },
    {
      "cell_type": "code",
      "source": [
        "result_df.true_class.unique()"
      ],
      "metadata": {
        "colab": {
          "base_uri": "https://localhost:8080/"
        },
        "id": "ANeX1ZavCtWi",
        "outputId": "4aabcb9f-9b6c-4670-b809-e18619523b92"
      },
      "id": "ANeX1ZavCtWi",
      "execution_count": null,
      "outputs": [
        {
          "output_type": "execute_result",
          "data": {
            "text/plain": [
              "array(['automobile', 'dog', 'horse', 'deer', 'truck', 'bird', 'cat',\n",
              "       'ship', 'frog', 'airplane'], dtype=object)"
            ]
          },
          "metadata": {},
          "execution_count": 145
        }
      ]
    },
    {
      "cell_type": "code",
      "source": [
        "for i in result_df.true_class.unique():\n",
        "  print('\\033[1m' +i + '\\033[0m')\n",
        "  print(result_df[result_df.true_class ==i]['predicted_class'].value_counts())\n",
        "  print(len(result_df[result_df.true_class ==i]['predicted_class']))\n",
        "  print(\"\\n\")"
      ],
      "metadata": {
        "colab": {
          "base_uri": "https://localhost:8080/"
        },
        "id": "lfzwUG-6BMQ7",
        "outputId": "c44fe2a0-adf0-460b-aba5-f657b28cb014"
      },
      "id": "lfzwUG-6BMQ7",
      "execution_count": null,
      "outputs": [
        {
          "output_type": "stream",
          "name": "stdout",
          "text": [
            "\u001b[1mautomobile\u001b[0m\n",
            "automobile    832\n",
            "truck          98\n",
            "ship           31\n",
            "frog           11\n",
            "cat             7\n",
            "airplane        6\n",
            "dog             5\n",
            "bird            4\n",
            "horse           4\n",
            "deer            2\n",
            "Name: predicted_class, dtype: int64\n",
            "1000\n",
            "\n",
            "\n",
            "\u001b[1mdog\u001b[0m\n",
            "dog           651\n",
            "cat           113\n",
            "bird           59\n",
            "horse          57\n",
            "deer           51\n",
            "frog           43\n",
            "ship           11\n",
            "truck           7\n",
            "airplane        5\n",
            "automobile      3\n",
            "Name: predicted_class, dtype: int64\n",
            "1000\n",
            "\n",
            "\n",
            "\u001b[1mhorse\u001b[0m\n",
            "horse         794\n",
            "deer           55\n",
            "bird           43\n",
            "dog            32\n",
            "cat            31\n",
            "frog           18\n",
            "airplane       12\n",
            "truck           9\n",
            "automobile      4\n",
            "ship            2\n",
            "Name: predicted_class, dtype: int64\n",
            "1000\n",
            "\n",
            "\n",
            "\u001b[1mdeer\u001b[0m\n",
            "deer          734\n",
            "bird           75\n",
            "horse          52\n",
            "frog           47\n",
            "cat            44\n",
            "dog            20\n",
            "ship           13\n",
            "airplane        9\n",
            "automobile      4\n",
            "truck           2\n",
            "Name: predicted_class, dtype: int64\n",
            "1000\n",
            "\n",
            "\n",
            "\u001b[1mtruck\u001b[0m\n",
            "truck         871\n",
            "automobile     50\n",
            "ship           18\n",
            "cat            14\n",
            "bird           12\n",
            "airplane       11\n",
            "frog            8\n",
            "deer            8\n",
            "horse           5\n",
            "dog             3\n",
            "Name: predicted_class, dtype: int64\n",
            "1000\n",
            "\n",
            "\n",
            "\u001b[1mbird\u001b[0m\n",
            "bird          695\n",
            "deer           72\n",
            "frog           64\n",
            "airplane       43\n",
            "dog            42\n",
            "cat            36\n",
            "horse          25\n",
            "ship           11\n",
            "automobile      6\n",
            "truck           6\n",
            "Name: predicted_class, dtype: int64\n",
            "1000\n",
            "\n",
            "\n",
            "\u001b[1mcat\u001b[0m\n",
            "cat           506\n",
            "dog           123\n",
            "frog          103\n",
            "deer           85\n",
            "bird           78\n",
            "horse          43\n",
            "ship           21\n",
            "truck          18\n",
            "airplane       18\n",
            "automobile      5\n",
            "Name: predicted_class, dtype: int64\n",
            "1000\n",
            "\n",
            "\n",
            "\u001b[1mship\u001b[0m\n",
            "ship          866\n",
            "airplane       30\n",
            "frog           25\n",
            "truck          24\n",
            "automobile     16\n",
            "bird           12\n",
            "cat            12\n",
            "deer            7\n",
            "horse           4\n",
            "dog             4\n",
            "Name: predicted_class, dtype: int64\n",
            "1000\n",
            "\n",
            "\n",
            "\u001b[1mfrog\u001b[0m\n",
            "frog          853\n",
            "bird           43\n",
            "deer           31\n",
            "cat            30\n",
            "horse          14\n",
            "dog            13\n",
            "ship            6\n",
            "truck           4\n",
            "automobile      3\n",
            "airplane        3\n",
            "Name: predicted_class, dtype: int64\n",
            "1000\n",
            "\n",
            "\n",
            "\u001b[1mairplane\u001b[0m\n",
            "airplane      711\n",
            "bird           96\n",
            "ship           53\n",
            "truck          39\n",
            "deer           37\n",
            "frog           18\n",
            "automobile     15\n",
            "dog            11\n",
            "cat            11\n",
            "horse           9\n",
            "Name: predicted_class, dtype: int64\n",
            "1000\n",
            "\n",
            "\n"
          ]
        }
      ]
    },
    {
      "cell_type": "code",
      "source": [
        "# result_df.to_csv(\"/content/prediction_test.csv\")"
      ],
      "metadata": {
        "id": "0y94LLvG7-OP"
      },
      "id": "0y94LLvG7-OP",
      "execution_count": null,
      "outputs": []
    },
    {
      "cell_type": "markdown",
      "source": [
        "###test scores"
      ],
      "metadata": {
        "id": "UDLNjeZ04PQ1"
      },
      "id": "UDLNjeZ04PQ1"
    },
    {
      "cell_type": "code",
      "source": [
        "print(accuracy_score(y_test_true, y_pred)) # mit 256 layer -> 512 relu 100 epochen"
      ],
      "metadata": {
        "id": "vm_gC9bhFCM6"
      },
      "id": "vm_gC9bhFCM6",
      "execution_count": null,
      "outputs": []
    },
    {
      "cell_type": "code",
      "source": [
        "print(accuracy_score(y_test_true, y_pred)) # mit 256 layer -> 512 sigmoid 20 epochen"
      ],
      "metadata": {
        "id": "-pw17Zc2Ez2D"
      },
      "id": "-pw17Zc2Ez2D",
      "execution_count": null,
      "outputs": []
    },
    {
      "cell_type": "code",
      "source": [
        "print(accuracy_score(y_test_true, y_pred)) # mit 512 layer -> 1024 relu 20 epochen"
      ],
      "metadata": {
        "id": "P-D3k9Vd9-Nl"
      },
      "id": "P-D3k9Vd9-Nl",
      "execution_count": null,
      "outputs": []
    },
    {
      "cell_type": "code",
      "source": [
        "print(accuracy_score(y_test_true, y_pred)) # mit 256 layer -> 512 relu 20 epochen"
      ],
      "metadata": {
        "id": "6lQ36BmK8q12"
      },
      "id": "6lQ36BmK8q12",
      "execution_count": null,
      "outputs": []
    },
    {
      "cell_type": "code",
      "source": [
        "print(accuracy_score(y_test_true, y_pred)) # mit 128 layer -> 512 relu 20 epochen"
      ],
      "metadata": {
        "id": "rczbfsuK8lM-"
      },
      "id": "rczbfsuK8lM-",
      "execution_count": null,
      "outputs": []
    },
    {
      "cell_type": "code",
      "source": [
        "print(accuracy_score(y_test_true, y_pred)) # mit 128 layer -> 256 relu 20 epochen"
      ],
      "metadata": {
        "id": "UyUCuAhO7cDL"
      },
      "id": "UyUCuAhO7cDL",
      "execution_count": null,
      "outputs": []
    },
    {
      "cell_type": "code",
      "source": [
        "print(accuracy_score(y_test_true, y_pred)) # ohne 128 -> 128 relu 20 epochen"
      ],
      "metadata": {
        "id": "FOKToR_D4OYK"
      },
      "id": "FOKToR_D4OYK",
      "execution_count": null,
      "outputs": []
    }
  ],
  "metadata": {
    "kernelspec": {
      "display_name": "Python 3 (ipykernel)",
      "language": "python",
      "name": "python3"
    },
    "language_info": {
      "codemirror_mode": {
        "name": "ipython",
        "version": 3
      },
      "file_extension": ".py",
      "mimetype": "text/x-python",
      "name": "python",
      "nbconvert_exporter": "python",
      "pygments_lexer": "ipython3",
      "version": "3.8.12"
    },
    "colab": {
      "name": "project1_DL_cifar_code.ipynb",
      "provenance": [],
      "collapsed_sections": [
        "UDLNjeZ04PQ1"
      ]
    },
    "accelerator": "GPU"
  },
  "nbformat": 4,
  "nbformat_minor": 5
}